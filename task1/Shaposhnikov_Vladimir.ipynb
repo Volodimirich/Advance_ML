{
  "nbformat": 4,
  "nbformat_minor": 0,
  "metadata": {
    "colab": {
      "provenance": [],
      "authorship_tag": "ABX9TyOYXjK2T4ZUSyCuSIy/MHa8",
      "include_colab_link": true
    },
    "kernelspec": {
      "name": "python3",
      "display_name": "Python 3"
    },
    "language_info": {
      "name": "python"
    }
  },
  "cells": [
    {
      "cell_type": "markdown",
      "metadata": {
        "id": "view-in-github",
        "colab_type": "text"
      },
      "source": [
        "<a href=\"https://colab.research.google.com/github/Volodimirich/Advance_ML/blob/main/Shaposhnikov_Vladimir.ipynb\" target=\"_parent\"><img src=\"https://colab.research.google.com/assets/colab-badge.svg\" alt=\"Open In Colab\"/></a>"
      ]
    },
    {
      "cell_type": "code",
      "source": [
        "#!pip3 install wget\n"
      ],
      "metadata": {
        "colab": {
          "base_uri": "https://localhost:8080/"
        },
        "id": "3_QH6KUfCldP",
        "outputId": "e8082df5-47b3-47a0-a295-b8d5796eba8e"
      },
      "execution_count": 228,
      "outputs": [
        {
          "output_type": "stream",
          "name": "stdout",
          "text": [
            "Looking in indexes: https://pypi.org/simple, https://us-python.pkg.dev/colab-wheels/public/simple/\n",
            "Requirement already satisfied: wget in /usr/local/lib/python3.9/dist-packages (3.2)\n"
          ]
        }
      ]
    },
    {
      "cell_type": "code",
      "execution_count": 229,
      "metadata": {
        "id": "-SBg1GTteoN5"
      },
      "outputs": [],
      "source": [
        "import wget \n",
        "import os\n",
        "import pandas as pd\n",
        "import matplotlib.pyplot as plt\n",
        "import numpy as np\n",
        "from sklearn.linear_model import LinearRegression\n",
        "from scipy.stats import multivariate_normal\n",
        "import seaborn as sns\n",
        "\n",
        "\n",
        "%matplotlib inline"
      ]
    },
    {
      "cell_type": "markdown",
      "source": [
        "## Problem 1"
      ],
      "metadata": {
        "id": "-_h-B_tSivp9"
      }
    },
    {
      "cell_type": "markdown",
      "source": [
        "Скачайте данные в формате csv, выберите из таблицы данные по России, начиная с 3 марта 2020 г. (в этот момент впервые стало больше 2 заболевших). В качестве целевой переменной возьмём число случаев заболевания (столбцы total_cases и new_cases); для упрощения обработки можно заменить в столбце new_cases все нули на единицы. Для единообразия давайте зафиксируем тренировочный набор в виде первых 50 отсчётов (дней), начиная с 3 марта; остальные данные можно использовать в качестве тестового набора (и он даже будет увеличиваться по мере выполнения задания)."
      ],
      "metadata": {
        "id": "tgCNApW5fWsH"
      }
    },
    {
      "cell_type": "code",
      "source": [
        "if not os.path.exists('owid-covid-data.csv'):\n",
        "    wget.download('https://covid.ourworldindata.org/data/owid-covid-data.csv', '.') "
      ],
      "metadata": {
        "id": "Hw4q9QYpfXBT"
      },
      "execution_count": 230,
      "outputs": []
    },
    {
      "cell_type": "code",
      "source": [
        "data = pd.read_csv(\"./owid-covid-data.csv\")\n",
        "data = data[(data[\"location\"] == \"Russia\") & (data[\"date\"] >= \"2020-03-03\")]\n",
        "data"
      ],
      "metadata": {
        "colab": {
          "base_uri": "https://localhost:8080/",
          "height": 661
        },
        "id": "5pJf5IUigXZ7",
        "outputId": "cb9b46f2-a2e0-4df3-c5a1-65e4692af22b"
      },
      "execution_count": 231,
      "outputs": [
        {
          "output_type": "execute_result",
          "data": {
            "text/plain": [
              "       iso_code continent location        date  total_cases  new_cases  \\\n",
              "214873      RUS    Europe   Russia  2020-03-03          3.0        1.0   \n",
              "214874      RUS    Europe   Russia  2020-03-04          3.0        0.0   \n",
              "214875      RUS    Europe   Russia  2020-03-05          3.0        0.0   \n",
              "214876      RUS    Europe   Russia  2020-03-06          4.0        1.0   \n",
              "214877      RUS    Europe   Russia  2020-03-07          4.0        0.0   \n",
              "...         ...       ...      ...         ...          ...        ...   \n",
              "215971      RUS    Europe   Russia  2023-03-06   22353291.0    11163.0   \n",
              "215972      RUS    Europe   Russia  2023-03-07   22363740.0    10449.0   \n",
              "215973      RUS    Europe   Russia  2023-03-08          NaN        NaN   \n",
              "215974      RUS    Europe   Russia  2023-03-09          NaN        NaN   \n",
              "215975      RUS    Europe   Russia  2023-03-10          NaN        NaN   \n",
              "\n",
              "        new_cases_smoothed  total_deaths  new_deaths  new_deaths_smoothed  \\\n",
              "214873               0.143           NaN         0.0                0.000   \n",
              "214874               0.143           NaN         0.0                0.000   \n",
              "214875               0.143           NaN         0.0                0.000   \n",
              "214876               0.286           NaN         0.0                0.000   \n",
              "214877               0.286           NaN         0.0                0.000   \n",
              "...                    ...           ...         ...                  ...   \n",
              "215971           12939.143      396336.0        38.0               38.714   \n",
              "215972           13038.571      396378.0        42.0               39.714   \n",
              "215973                 NaN           NaN         NaN                  NaN   \n",
              "215974                 NaN           NaN         NaN                  NaN   \n",
              "215975                 NaN           NaN         NaN                  NaN   \n",
              "\n",
              "        ...  male_smokers  handwashing_facilities  hospital_beds_per_thousand  \\\n",
              "214873  ...          58.3                     NaN                        8.05   \n",
              "214874  ...          58.3                     NaN                        8.05   \n",
              "214875  ...          58.3                     NaN                        8.05   \n",
              "214876  ...          58.3                     NaN                        8.05   \n",
              "214877  ...          58.3                     NaN                        8.05   \n",
              "...     ...           ...                     ...                         ...   \n",
              "215971  ...          58.3                     NaN                        8.05   \n",
              "215972  ...          58.3                     NaN                        8.05   \n",
              "215973  ...          58.3                     NaN                        8.05   \n",
              "215974  ...          58.3                     NaN                        8.05   \n",
              "215975  ...          58.3                     NaN                        8.05   \n",
              "\n",
              "        life_expectancy  human_development_index   population  \\\n",
              "214873            72.58                    0.824  144713312.0   \n",
              "214874            72.58                    0.824  144713312.0   \n",
              "214875            72.58                    0.824  144713312.0   \n",
              "214876            72.58                    0.824  144713312.0   \n",
              "214877            72.58                    0.824  144713312.0   \n",
              "...                 ...                      ...          ...   \n",
              "215971            72.58                    0.824  144713312.0   \n",
              "215972            72.58                    0.824  144713312.0   \n",
              "215973            72.58                    0.824  144713312.0   \n",
              "215974            72.58                    0.824  144713312.0   \n",
              "215975            72.58                    0.824  144713312.0   \n",
              "\n",
              "        excess_mortality_cumulative_absolute  excess_mortality_cumulative  \\\n",
              "214873                                   NaN                          NaN   \n",
              "214874                                   NaN                          NaN   \n",
              "214875                                   NaN                          NaN   \n",
              "214876                                   NaN                          NaN   \n",
              "214877                                   NaN                          NaN   \n",
              "...                                      ...                          ...   \n",
              "215971                                   NaN                          NaN   \n",
              "215972                                   NaN                          NaN   \n",
              "215973                                   NaN                          NaN   \n",
              "215974                                   NaN                          NaN   \n",
              "215975                                   NaN                          NaN   \n",
              "\n",
              "        excess_mortality  excess_mortality_cumulative_per_million  \n",
              "214873               NaN                                      NaN  \n",
              "214874               NaN                                      NaN  \n",
              "214875               NaN                                      NaN  \n",
              "214876               NaN                                      NaN  \n",
              "214877               NaN                                      NaN  \n",
              "...                  ...                                      ...  \n",
              "215971               NaN                                      NaN  \n",
              "215972               NaN                                      NaN  \n",
              "215973               NaN                                      NaN  \n",
              "215974               NaN                                      NaN  \n",
              "215975               NaN                                      NaN  \n",
              "\n",
              "[1103 rows x 67 columns]"
            ],
            "text/html": [
              "\n",
              "  <div id=\"df-1e085036-dd22-41d1-ab08-6457eb9e20d7\">\n",
              "    <div class=\"colab-df-container\">\n",
              "      <div>\n",
              "<style scoped>\n",
              "    .dataframe tbody tr th:only-of-type {\n",
              "        vertical-align: middle;\n",
              "    }\n",
              "\n",
              "    .dataframe tbody tr th {\n",
              "        vertical-align: top;\n",
              "    }\n",
              "\n",
              "    .dataframe thead th {\n",
              "        text-align: right;\n",
              "    }\n",
              "</style>\n",
              "<table border=\"1\" class=\"dataframe\">\n",
              "  <thead>\n",
              "    <tr style=\"text-align: right;\">\n",
              "      <th></th>\n",
              "      <th>iso_code</th>\n",
              "      <th>continent</th>\n",
              "      <th>location</th>\n",
              "      <th>date</th>\n",
              "      <th>total_cases</th>\n",
              "      <th>new_cases</th>\n",
              "      <th>new_cases_smoothed</th>\n",
              "      <th>total_deaths</th>\n",
              "      <th>new_deaths</th>\n",
              "      <th>new_deaths_smoothed</th>\n",
              "      <th>...</th>\n",
              "      <th>male_smokers</th>\n",
              "      <th>handwashing_facilities</th>\n",
              "      <th>hospital_beds_per_thousand</th>\n",
              "      <th>life_expectancy</th>\n",
              "      <th>human_development_index</th>\n",
              "      <th>population</th>\n",
              "      <th>excess_mortality_cumulative_absolute</th>\n",
              "      <th>excess_mortality_cumulative</th>\n",
              "      <th>excess_mortality</th>\n",
              "      <th>excess_mortality_cumulative_per_million</th>\n",
              "    </tr>\n",
              "  </thead>\n",
              "  <tbody>\n",
              "    <tr>\n",
              "      <th>214873</th>\n",
              "      <td>RUS</td>\n",
              "      <td>Europe</td>\n",
              "      <td>Russia</td>\n",
              "      <td>2020-03-03</td>\n",
              "      <td>3.0</td>\n",
              "      <td>1.0</td>\n",
              "      <td>0.143</td>\n",
              "      <td>NaN</td>\n",
              "      <td>0.0</td>\n",
              "      <td>0.000</td>\n",
              "      <td>...</td>\n",
              "      <td>58.3</td>\n",
              "      <td>NaN</td>\n",
              "      <td>8.05</td>\n",
              "      <td>72.58</td>\n",
              "      <td>0.824</td>\n",
              "      <td>144713312.0</td>\n",
              "      <td>NaN</td>\n",
              "      <td>NaN</td>\n",
              "      <td>NaN</td>\n",
              "      <td>NaN</td>\n",
              "    </tr>\n",
              "    <tr>\n",
              "      <th>214874</th>\n",
              "      <td>RUS</td>\n",
              "      <td>Europe</td>\n",
              "      <td>Russia</td>\n",
              "      <td>2020-03-04</td>\n",
              "      <td>3.0</td>\n",
              "      <td>0.0</td>\n",
              "      <td>0.143</td>\n",
              "      <td>NaN</td>\n",
              "      <td>0.0</td>\n",
              "      <td>0.000</td>\n",
              "      <td>...</td>\n",
              "      <td>58.3</td>\n",
              "      <td>NaN</td>\n",
              "      <td>8.05</td>\n",
              "      <td>72.58</td>\n",
              "      <td>0.824</td>\n",
              "      <td>144713312.0</td>\n",
              "      <td>NaN</td>\n",
              "      <td>NaN</td>\n",
              "      <td>NaN</td>\n",
              "      <td>NaN</td>\n",
              "    </tr>\n",
              "    <tr>\n",
              "      <th>214875</th>\n",
              "      <td>RUS</td>\n",
              "      <td>Europe</td>\n",
              "      <td>Russia</td>\n",
              "      <td>2020-03-05</td>\n",
              "      <td>3.0</td>\n",
              "      <td>0.0</td>\n",
              "      <td>0.143</td>\n",
              "      <td>NaN</td>\n",
              "      <td>0.0</td>\n",
              "      <td>0.000</td>\n",
              "      <td>...</td>\n",
              "      <td>58.3</td>\n",
              "      <td>NaN</td>\n",
              "      <td>8.05</td>\n",
              "      <td>72.58</td>\n",
              "      <td>0.824</td>\n",
              "      <td>144713312.0</td>\n",
              "      <td>NaN</td>\n",
              "      <td>NaN</td>\n",
              "      <td>NaN</td>\n",
              "      <td>NaN</td>\n",
              "    </tr>\n",
              "    <tr>\n",
              "      <th>214876</th>\n",
              "      <td>RUS</td>\n",
              "      <td>Europe</td>\n",
              "      <td>Russia</td>\n",
              "      <td>2020-03-06</td>\n",
              "      <td>4.0</td>\n",
              "      <td>1.0</td>\n",
              "      <td>0.286</td>\n",
              "      <td>NaN</td>\n",
              "      <td>0.0</td>\n",
              "      <td>0.000</td>\n",
              "      <td>...</td>\n",
              "      <td>58.3</td>\n",
              "      <td>NaN</td>\n",
              "      <td>8.05</td>\n",
              "      <td>72.58</td>\n",
              "      <td>0.824</td>\n",
              "      <td>144713312.0</td>\n",
              "      <td>NaN</td>\n",
              "      <td>NaN</td>\n",
              "      <td>NaN</td>\n",
              "      <td>NaN</td>\n",
              "    </tr>\n",
              "    <tr>\n",
              "      <th>214877</th>\n",
              "      <td>RUS</td>\n",
              "      <td>Europe</td>\n",
              "      <td>Russia</td>\n",
              "      <td>2020-03-07</td>\n",
              "      <td>4.0</td>\n",
              "      <td>0.0</td>\n",
              "      <td>0.286</td>\n",
              "      <td>NaN</td>\n",
              "      <td>0.0</td>\n",
              "      <td>0.000</td>\n",
              "      <td>...</td>\n",
              "      <td>58.3</td>\n",
              "      <td>NaN</td>\n",
              "      <td>8.05</td>\n",
              "      <td>72.58</td>\n",
              "      <td>0.824</td>\n",
              "      <td>144713312.0</td>\n",
              "      <td>NaN</td>\n",
              "      <td>NaN</td>\n",
              "      <td>NaN</td>\n",
              "      <td>NaN</td>\n",
              "    </tr>\n",
              "    <tr>\n",
              "      <th>...</th>\n",
              "      <td>...</td>\n",
              "      <td>...</td>\n",
              "      <td>...</td>\n",
              "      <td>...</td>\n",
              "      <td>...</td>\n",
              "      <td>...</td>\n",
              "      <td>...</td>\n",
              "      <td>...</td>\n",
              "      <td>...</td>\n",
              "      <td>...</td>\n",
              "      <td>...</td>\n",
              "      <td>...</td>\n",
              "      <td>...</td>\n",
              "      <td>...</td>\n",
              "      <td>...</td>\n",
              "      <td>...</td>\n",
              "      <td>...</td>\n",
              "      <td>...</td>\n",
              "      <td>...</td>\n",
              "      <td>...</td>\n",
              "      <td>...</td>\n",
              "    </tr>\n",
              "    <tr>\n",
              "      <th>215971</th>\n",
              "      <td>RUS</td>\n",
              "      <td>Europe</td>\n",
              "      <td>Russia</td>\n",
              "      <td>2023-03-06</td>\n",
              "      <td>22353291.0</td>\n",
              "      <td>11163.0</td>\n",
              "      <td>12939.143</td>\n",
              "      <td>396336.0</td>\n",
              "      <td>38.0</td>\n",
              "      <td>38.714</td>\n",
              "      <td>...</td>\n",
              "      <td>58.3</td>\n",
              "      <td>NaN</td>\n",
              "      <td>8.05</td>\n",
              "      <td>72.58</td>\n",
              "      <td>0.824</td>\n",
              "      <td>144713312.0</td>\n",
              "      <td>NaN</td>\n",
              "      <td>NaN</td>\n",
              "      <td>NaN</td>\n",
              "      <td>NaN</td>\n",
              "    </tr>\n",
              "    <tr>\n",
              "      <th>215972</th>\n",
              "      <td>RUS</td>\n",
              "      <td>Europe</td>\n",
              "      <td>Russia</td>\n",
              "      <td>2023-03-07</td>\n",
              "      <td>22363740.0</td>\n",
              "      <td>10449.0</td>\n",
              "      <td>13038.571</td>\n",
              "      <td>396378.0</td>\n",
              "      <td>42.0</td>\n",
              "      <td>39.714</td>\n",
              "      <td>...</td>\n",
              "      <td>58.3</td>\n",
              "      <td>NaN</td>\n",
              "      <td>8.05</td>\n",
              "      <td>72.58</td>\n",
              "      <td>0.824</td>\n",
              "      <td>144713312.0</td>\n",
              "      <td>NaN</td>\n",
              "      <td>NaN</td>\n",
              "      <td>NaN</td>\n",
              "      <td>NaN</td>\n",
              "    </tr>\n",
              "    <tr>\n",
              "      <th>215973</th>\n",
              "      <td>RUS</td>\n",
              "      <td>Europe</td>\n",
              "      <td>Russia</td>\n",
              "      <td>2023-03-08</td>\n",
              "      <td>NaN</td>\n",
              "      <td>NaN</td>\n",
              "      <td>NaN</td>\n",
              "      <td>NaN</td>\n",
              "      <td>NaN</td>\n",
              "      <td>NaN</td>\n",
              "      <td>...</td>\n",
              "      <td>58.3</td>\n",
              "      <td>NaN</td>\n",
              "      <td>8.05</td>\n",
              "      <td>72.58</td>\n",
              "      <td>0.824</td>\n",
              "      <td>144713312.0</td>\n",
              "      <td>NaN</td>\n",
              "      <td>NaN</td>\n",
              "      <td>NaN</td>\n",
              "      <td>NaN</td>\n",
              "    </tr>\n",
              "    <tr>\n",
              "      <th>215974</th>\n",
              "      <td>RUS</td>\n",
              "      <td>Europe</td>\n",
              "      <td>Russia</td>\n",
              "      <td>2023-03-09</td>\n",
              "      <td>NaN</td>\n",
              "      <td>NaN</td>\n",
              "      <td>NaN</td>\n",
              "      <td>NaN</td>\n",
              "      <td>NaN</td>\n",
              "      <td>NaN</td>\n",
              "      <td>...</td>\n",
              "      <td>58.3</td>\n",
              "      <td>NaN</td>\n",
              "      <td>8.05</td>\n",
              "      <td>72.58</td>\n",
              "      <td>0.824</td>\n",
              "      <td>144713312.0</td>\n",
              "      <td>NaN</td>\n",
              "      <td>NaN</td>\n",
              "      <td>NaN</td>\n",
              "      <td>NaN</td>\n",
              "    </tr>\n",
              "    <tr>\n",
              "      <th>215975</th>\n",
              "      <td>RUS</td>\n",
              "      <td>Europe</td>\n",
              "      <td>Russia</td>\n",
              "      <td>2023-03-10</td>\n",
              "      <td>NaN</td>\n",
              "      <td>NaN</td>\n",
              "      <td>NaN</td>\n",
              "      <td>NaN</td>\n",
              "      <td>NaN</td>\n",
              "      <td>NaN</td>\n",
              "      <td>...</td>\n",
              "      <td>58.3</td>\n",
              "      <td>NaN</td>\n",
              "      <td>8.05</td>\n",
              "      <td>72.58</td>\n",
              "      <td>0.824</td>\n",
              "      <td>144713312.0</td>\n",
              "      <td>NaN</td>\n",
              "      <td>NaN</td>\n",
              "      <td>NaN</td>\n",
              "      <td>NaN</td>\n",
              "    </tr>\n",
              "  </tbody>\n",
              "</table>\n",
              "<p>1103 rows × 67 columns</p>\n",
              "</div>\n",
              "      <button class=\"colab-df-convert\" onclick=\"convertToInteractive('df-1e085036-dd22-41d1-ab08-6457eb9e20d7')\"\n",
              "              title=\"Convert this dataframe to an interactive table.\"\n",
              "              style=\"display:none;\">\n",
              "        \n",
              "  <svg xmlns=\"http://www.w3.org/2000/svg\" height=\"24px\"viewBox=\"0 0 24 24\"\n",
              "       width=\"24px\">\n",
              "    <path d=\"M0 0h24v24H0V0z\" fill=\"none\"/>\n",
              "    <path d=\"M18.56 5.44l.94 2.06.94-2.06 2.06-.94-2.06-.94-.94-2.06-.94 2.06-2.06.94zm-11 1L8.5 8.5l.94-2.06 2.06-.94-2.06-.94L8.5 2.5l-.94 2.06-2.06.94zm10 10l.94 2.06.94-2.06 2.06-.94-2.06-.94-.94-2.06-.94 2.06-2.06.94z\"/><path d=\"M17.41 7.96l-1.37-1.37c-.4-.4-.92-.59-1.43-.59-.52 0-1.04.2-1.43.59L10.3 9.45l-7.72 7.72c-.78.78-.78 2.05 0 2.83L4 21.41c.39.39.9.59 1.41.59.51 0 1.02-.2 1.41-.59l7.78-7.78 2.81-2.81c.8-.78.8-2.07 0-2.86zM5.41 20L4 18.59l7.72-7.72 1.47 1.35L5.41 20z\"/>\n",
              "  </svg>\n",
              "      </button>\n",
              "      \n",
              "  <style>\n",
              "    .colab-df-container {\n",
              "      display:flex;\n",
              "      flex-wrap:wrap;\n",
              "      gap: 12px;\n",
              "    }\n",
              "\n",
              "    .colab-df-convert {\n",
              "      background-color: #E8F0FE;\n",
              "      border: none;\n",
              "      border-radius: 50%;\n",
              "      cursor: pointer;\n",
              "      display: none;\n",
              "      fill: #1967D2;\n",
              "      height: 32px;\n",
              "      padding: 0 0 0 0;\n",
              "      width: 32px;\n",
              "    }\n",
              "\n",
              "    .colab-df-convert:hover {\n",
              "      background-color: #E2EBFA;\n",
              "      box-shadow: 0px 1px 2px rgba(60, 64, 67, 0.3), 0px 1px 3px 1px rgba(60, 64, 67, 0.15);\n",
              "      fill: #174EA6;\n",
              "    }\n",
              "\n",
              "    [theme=dark] .colab-df-convert {\n",
              "      background-color: #3B4455;\n",
              "      fill: #D2E3FC;\n",
              "    }\n",
              "\n",
              "    [theme=dark] .colab-df-convert:hover {\n",
              "      background-color: #434B5C;\n",
              "      box-shadow: 0px 1px 3px 1px rgba(0, 0, 0, 0.15);\n",
              "      filter: drop-shadow(0px 1px 2px rgba(0, 0, 0, 0.3));\n",
              "      fill: #FFFFFF;\n",
              "    }\n",
              "  </style>\n",
              "\n",
              "      <script>\n",
              "        const buttonEl =\n",
              "          document.querySelector('#df-1e085036-dd22-41d1-ab08-6457eb9e20d7 button.colab-df-convert');\n",
              "        buttonEl.style.display =\n",
              "          google.colab.kernel.accessAllowed ? 'block' : 'none';\n",
              "\n",
              "        async function convertToInteractive(key) {\n",
              "          const element = document.querySelector('#df-1e085036-dd22-41d1-ab08-6457eb9e20d7');\n",
              "          const dataTable =\n",
              "            await google.colab.kernel.invokeFunction('convertToInteractive',\n",
              "                                                     [key], {});\n",
              "          if (!dataTable) return;\n",
              "\n",
              "          const docLinkHtml = 'Like what you see? Visit the ' +\n",
              "            '<a target=\"_blank\" href=https://colab.research.google.com/notebooks/data_table.ipynb>data table notebook</a>'\n",
              "            + ' to learn more about interactive tables.';\n",
              "          element.innerHTML = '';\n",
              "          dataTable['output_type'] = 'display_data';\n",
              "          await google.colab.output.renderOutput(dataTable, element);\n",
              "          const docLink = document.createElement('div');\n",
              "          docLink.innerHTML = docLinkHtml;\n",
              "          element.appendChild(docLink);\n",
              "        }\n",
              "      </script>\n",
              "    </div>\n",
              "  </div>\n",
              "  "
            ]
          },
          "metadata": {},
          "execution_count": 231
        }
      ]
    },
    {
      "cell_type": "code",
      "source": [
        "data = pd.read_csv(\"./owid-covid-data.csv\")\n",
        "data = data[(data[\"location\"] == \"Russia\") & (data[\"date\"] >= \"2020-03-03\")]\n",
        "data = data[[\"date\", \"total_cases\", \"new_cases\"]]\n",
        "\n",
        "data['new_cases'] = data['new_cases'].replace(0, 1)\n",
        "data.dropna(inplace=True)\n",
        "\n",
        "data.sort_values(by=\"date\", inplace=True)\n",
        "data.reset_index(drop=True, inplace=True)"
      ],
      "metadata": {
        "id": "SccKpPl2fzGc"
      },
      "execution_count": 232,
      "outputs": []
    },
    {
      "cell_type": "code",
      "source": [
        "data"
      ],
      "metadata": {
        "colab": {
          "base_uri": "https://localhost:8080/",
          "height": 424
        },
        "id": "zPU1wg1AhxjT",
        "outputId": "3c4d8de2-6a03-47c9-f123-3c83f1cac95f"
      },
      "execution_count": 233,
      "outputs": [
        {
          "output_type": "execute_result",
          "data": {
            "text/plain": [
              "            date  total_cases  new_cases\n",
              "0     2020-03-03          3.0        1.0\n",
              "1     2020-03-04          3.0        1.0\n",
              "2     2020-03-05          3.0        1.0\n",
              "3     2020-03-06          4.0        1.0\n",
              "4     2020-03-07          4.0        1.0\n",
              "...          ...          ...        ...\n",
              "1095  2023-03-03   22314520.0    14516.0\n",
              "1096  2023-03-04   22328569.0    14049.0\n",
              "1097  2023-03-05   22342128.0    13559.0\n",
              "1098  2023-03-06   22353291.0    11163.0\n",
              "1099  2023-03-07   22363740.0    10449.0\n",
              "\n",
              "[1100 rows x 3 columns]"
            ],
            "text/html": [
              "\n",
              "  <div id=\"df-fbb29021-00f2-4f89-b60e-5aa458e3b0b4\">\n",
              "    <div class=\"colab-df-container\">\n",
              "      <div>\n",
              "<style scoped>\n",
              "    .dataframe tbody tr th:only-of-type {\n",
              "        vertical-align: middle;\n",
              "    }\n",
              "\n",
              "    .dataframe tbody tr th {\n",
              "        vertical-align: top;\n",
              "    }\n",
              "\n",
              "    .dataframe thead th {\n",
              "        text-align: right;\n",
              "    }\n",
              "</style>\n",
              "<table border=\"1\" class=\"dataframe\">\n",
              "  <thead>\n",
              "    <tr style=\"text-align: right;\">\n",
              "      <th></th>\n",
              "      <th>date</th>\n",
              "      <th>total_cases</th>\n",
              "      <th>new_cases</th>\n",
              "    </tr>\n",
              "  </thead>\n",
              "  <tbody>\n",
              "    <tr>\n",
              "      <th>0</th>\n",
              "      <td>2020-03-03</td>\n",
              "      <td>3.0</td>\n",
              "      <td>1.0</td>\n",
              "    </tr>\n",
              "    <tr>\n",
              "      <th>1</th>\n",
              "      <td>2020-03-04</td>\n",
              "      <td>3.0</td>\n",
              "      <td>1.0</td>\n",
              "    </tr>\n",
              "    <tr>\n",
              "      <th>2</th>\n",
              "      <td>2020-03-05</td>\n",
              "      <td>3.0</td>\n",
              "      <td>1.0</td>\n",
              "    </tr>\n",
              "    <tr>\n",
              "      <th>3</th>\n",
              "      <td>2020-03-06</td>\n",
              "      <td>4.0</td>\n",
              "      <td>1.0</td>\n",
              "    </tr>\n",
              "    <tr>\n",
              "      <th>4</th>\n",
              "      <td>2020-03-07</td>\n",
              "      <td>4.0</td>\n",
              "      <td>1.0</td>\n",
              "    </tr>\n",
              "    <tr>\n",
              "      <th>...</th>\n",
              "      <td>...</td>\n",
              "      <td>...</td>\n",
              "      <td>...</td>\n",
              "    </tr>\n",
              "    <tr>\n",
              "      <th>1095</th>\n",
              "      <td>2023-03-03</td>\n",
              "      <td>22314520.0</td>\n",
              "      <td>14516.0</td>\n",
              "    </tr>\n",
              "    <tr>\n",
              "      <th>1096</th>\n",
              "      <td>2023-03-04</td>\n",
              "      <td>22328569.0</td>\n",
              "      <td>14049.0</td>\n",
              "    </tr>\n",
              "    <tr>\n",
              "      <th>1097</th>\n",
              "      <td>2023-03-05</td>\n",
              "      <td>22342128.0</td>\n",
              "      <td>13559.0</td>\n",
              "    </tr>\n",
              "    <tr>\n",
              "      <th>1098</th>\n",
              "      <td>2023-03-06</td>\n",
              "      <td>22353291.0</td>\n",
              "      <td>11163.0</td>\n",
              "    </tr>\n",
              "    <tr>\n",
              "      <th>1099</th>\n",
              "      <td>2023-03-07</td>\n",
              "      <td>22363740.0</td>\n",
              "      <td>10449.0</td>\n",
              "    </tr>\n",
              "  </tbody>\n",
              "</table>\n",
              "<p>1100 rows × 3 columns</p>\n",
              "</div>\n",
              "      <button class=\"colab-df-convert\" onclick=\"convertToInteractive('df-fbb29021-00f2-4f89-b60e-5aa458e3b0b4')\"\n",
              "              title=\"Convert this dataframe to an interactive table.\"\n",
              "              style=\"display:none;\">\n",
              "        \n",
              "  <svg xmlns=\"http://www.w3.org/2000/svg\" height=\"24px\"viewBox=\"0 0 24 24\"\n",
              "       width=\"24px\">\n",
              "    <path d=\"M0 0h24v24H0V0z\" fill=\"none\"/>\n",
              "    <path d=\"M18.56 5.44l.94 2.06.94-2.06 2.06-.94-2.06-.94-.94-2.06-.94 2.06-2.06.94zm-11 1L8.5 8.5l.94-2.06 2.06-.94-2.06-.94L8.5 2.5l-.94 2.06-2.06.94zm10 10l.94 2.06.94-2.06 2.06-.94-2.06-.94-.94-2.06-.94 2.06-2.06.94z\"/><path d=\"M17.41 7.96l-1.37-1.37c-.4-.4-.92-.59-1.43-.59-.52 0-1.04.2-1.43.59L10.3 9.45l-7.72 7.72c-.78.78-.78 2.05 0 2.83L4 21.41c.39.39.9.59 1.41.59.51 0 1.02-.2 1.41-.59l7.78-7.78 2.81-2.81c.8-.78.8-2.07 0-2.86zM5.41 20L4 18.59l7.72-7.72 1.47 1.35L5.41 20z\"/>\n",
              "  </svg>\n",
              "      </button>\n",
              "      \n",
              "  <style>\n",
              "    .colab-df-container {\n",
              "      display:flex;\n",
              "      flex-wrap:wrap;\n",
              "      gap: 12px;\n",
              "    }\n",
              "\n",
              "    .colab-df-convert {\n",
              "      background-color: #E8F0FE;\n",
              "      border: none;\n",
              "      border-radius: 50%;\n",
              "      cursor: pointer;\n",
              "      display: none;\n",
              "      fill: #1967D2;\n",
              "      height: 32px;\n",
              "      padding: 0 0 0 0;\n",
              "      width: 32px;\n",
              "    }\n",
              "\n",
              "    .colab-df-convert:hover {\n",
              "      background-color: #E2EBFA;\n",
              "      box-shadow: 0px 1px 2px rgba(60, 64, 67, 0.3), 0px 1px 3px 1px rgba(60, 64, 67, 0.15);\n",
              "      fill: #174EA6;\n",
              "    }\n",
              "\n",
              "    [theme=dark] .colab-df-convert {\n",
              "      background-color: #3B4455;\n",
              "      fill: #D2E3FC;\n",
              "    }\n",
              "\n",
              "    [theme=dark] .colab-df-convert:hover {\n",
              "      background-color: #434B5C;\n",
              "      box-shadow: 0px 1px 3px 1px rgba(0, 0, 0, 0.15);\n",
              "      filter: drop-shadow(0px 1px 2px rgba(0, 0, 0, 0.3));\n",
              "      fill: #FFFFFF;\n",
              "    }\n",
              "  </style>\n",
              "\n",
              "      <script>\n",
              "        const buttonEl =\n",
              "          document.querySelector('#df-fbb29021-00f2-4f89-b60e-5aa458e3b0b4 button.colab-df-convert');\n",
              "        buttonEl.style.display =\n",
              "          google.colab.kernel.accessAllowed ? 'block' : 'none';\n",
              "\n",
              "        async function convertToInteractive(key) {\n",
              "          const element = document.querySelector('#df-fbb29021-00f2-4f89-b60e-5aa458e3b0b4');\n",
              "          const dataTable =\n",
              "            await google.colab.kernel.invokeFunction('convertToInteractive',\n",
              "                                                     [key], {});\n",
              "          if (!dataTable) return;\n",
              "\n",
              "          const docLinkHtml = 'Like what you see? Visit the ' +\n",
              "            '<a target=\"_blank\" href=https://colab.research.google.com/notebooks/data_table.ipynb>data table notebook</a>'\n",
              "            + ' to learn more about interactive tables.';\n",
              "          element.innerHTML = '';\n",
              "          dataTable['output_type'] = 'display_data';\n",
              "          await google.colab.output.renderOutput(dataTable, element);\n",
              "          const docLink = document.createElement('div');\n",
              "          docLink.innerHTML = docLinkHtml;\n",
              "          element.appendChild(docLink);\n",
              "        }\n",
              "      </script>\n",
              "    </div>\n",
              "  </div>\n",
              "  "
            ]
          },
          "metadata": {},
          "execution_count": 233
        }
      ]
    },
    {
      "cell_type": "code",
      "source": [
        "train_size = 50 \n",
        "train, test = data.iloc[:train_size, :], data.iloc[train_size:, :]"
      ],
      "metadata": {
        "id": "C-bOjPwRhySi"
      },
      "execution_count": 234,
      "outputs": []
    },
    {
      "cell_type": "code",
      "source": [
        "train.tail(5)"
      ],
      "metadata": {
        "colab": {
          "base_uri": "https://localhost:8080/",
          "height": 206
        },
        "id": "wj1f39fUijgC",
        "outputId": "114d71c9-1c94-4ee1-a65b-3f4403cb0558"
      },
      "execution_count": 235,
      "outputs": [
        {
          "output_type": "execute_result",
          "data": {
            "text/plain": [
              "          date  total_cases  new_cases\n",
              "45  2020-04-17      32008.0     4070.0\n",
              "46  2020-04-18      36793.0     4785.0\n",
              "47  2020-04-19      42853.0     6060.0\n",
              "48  2020-04-20      47121.0     4268.0\n",
              "49  2020-04-21      52763.0     5642.0"
            ],
            "text/html": [
              "\n",
              "  <div id=\"df-51fc5900-3ce3-43e7-8782-eddd6ce4d630\">\n",
              "    <div class=\"colab-df-container\">\n",
              "      <div>\n",
              "<style scoped>\n",
              "    .dataframe tbody tr th:only-of-type {\n",
              "        vertical-align: middle;\n",
              "    }\n",
              "\n",
              "    .dataframe tbody tr th {\n",
              "        vertical-align: top;\n",
              "    }\n",
              "\n",
              "    .dataframe thead th {\n",
              "        text-align: right;\n",
              "    }\n",
              "</style>\n",
              "<table border=\"1\" class=\"dataframe\">\n",
              "  <thead>\n",
              "    <tr style=\"text-align: right;\">\n",
              "      <th></th>\n",
              "      <th>date</th>\n",
              "      <th>total_cases</th>\n",
              "      <th>new_cases</th>\n",
              "    </tr>\n",
              "  </thead>\n",
              "  <tbody>\n",
              "    <tr>\n",
              "      <th>45</th>\n",
              "      <td>2020-04-17</td>\n",
              "      <td>32008.0</td>\n",
              "      <td>4070.0</td>\n",
              "    </tr>\n",
              "    <tr>\n",
              "      <th>46</th>\n",
              "      <td>2020-04-18</td>\n",
              "      <td>36793.0</td>\n",
              "      <td>4785.0</td>\n",
              "    </tr>\n",
              "    <tr>\n",
              "      <th>47</th>\n",
              "      <td>2020-04-19</td>\n",
              "      <td>42853.0</td>\n",
              "      <td>6060.0</td>\n",
              "    </tr>\n",
              "    <tr>\n",
              "      <th>48</th>\n",
              "      <td>2020-04-20</td>\n",
              "      <td>47121.0</td>\n",
              "      <td>4268.0</td>\n",
              "    </tr>\n",
              "    <tr>\n",
              "      <th>49</th>\n",
              "      <td>2020-04-21</td>\n",
              "      <td>52763.0</td>\n",
              "      <td>5642.0</td>\n",
              "    </tr>\n",
              "  </tbody>\n",
              "</table>\n",
              "</div>\n",
              "      <button class=\"colab-df-convert\" onclick=\"convertToInteractive('df-51fc5900-3ce3-43e7-8782-eddd6ce4d630')\"\n",
              "              title=\"Convert this dataframe to an interactive table.\"\n",
              "              style=\"display:none;\">\n",
              "        \n",
              "  <svg xmlns=\"http://www.w3.org/2000/svg\" height=\"24px\"viewBox=\"0 0 24 24\"\n",
              "       width=\"24px\">\n",
              "    <path d=\"M0 0h24v24H0V0z\" fill=\"none\"/>\n",
              "    <path d=\"M18.56 5.44l.94 2.06.94-2.06 2.06-.94-2.06-.94-.94-2.06-.94 2.06-2.06.94zm-11 1L8.5 8.5l.94-2.06 2.06-.94-2.06-.94L8.5 2.5l-.94 2.06-2.06.94zm10 10l.94 2.06.94-2.06 2.06-.94-2.06-.94-.94-2.06-.94 2.06-2.06.94z\"/><path d=\"M17.41 7.96l-1.37-1.37c-.4-.4-.92-.59-1.43-.59-.52 0-1.04.2-1.43.59L10.3 9.45l-7.72 7.72c-.78.78-.78 2.05 0 2.83L4 21.41c.39.39.9.59 1.41.59.51 0 1.02-.2 1.41-.59l7.78-7.78 2.81-2.81c.8-.78.8-2.07 0-2.86zM5.41 20L4 18.59l7.72-7.72 1.47 1.35L5.41 20z\"/>\n",
              "  </svg>\n",
              "      </button>\n",
              "      \n",
              "  <style>\n",
              "    .colab-df-container {\n",
              "      display:flex;\n",
              "      flex-wrap:wrap;\n",
              "      gap: 12px;\n",
              "    }\n",
              "\n",
              "    .colab-df-convert {\n",
              "      background-color: #E8F0FE;\n",
              "      border: none;\n",
              "      border-radius: 50%;\n",
              "      cursor: pointer;\n",
              "      display: none;\n",
              "      fill: #1967D2;\n",
              "      height: 32px;\n",
              "      padding: 0 0 0 0;\n",
              "      width: 32px;\n",
              "    }\n",
              "\n",
              "    .colab-df-convert:hover {\n",
              "      background-color: #E2EBFA;\n",
              "      box-shadow: 0px 1px 2px rgba(60, 64, 67, 0.3), 0px 1px 3px 1px rgba(60, 64, 67, 0.15);\n",
              "      fill: #174EA6;\n",
              "    }\n",
              "\n",
              "    [theme=dark] .colab-df-convert {\n",
              "      background-color: #3B4455;\n",
              "      fill: #D2E3FC;\n",
              "    }\n",
              "\n",
              "    [theme=dark] .colab-df-convert:hover {\n",
              "      background-color: #434B5C;\n",
              "      box-shadow: 0px 1px 3px 1px rgba(0, 0, 0, 0.15);\n",
              "      filter: drop-shadow(0px 1px 2px rgba(0, 0, 0, 0.3));\n",
              "      fill: #FFFFFF;\n",
              "    }\n",
              "  </style>\n",
              "\n",
              "      <script>\n",
              "        const buttonEl =\n",
              "          document.querySelector('#df-51fc5900-3ce3-43e7-8782-eddd6ce4d630 button.colab-df-convert');\n",
              "        buttonEl.style.display =\n",
              "          google.colab.kernel.accessAllowed ? 'block' : 'none';\n",
              "\n",
              "        async function convertToInteractive(key) {\n",
              "          const element = document.querySelector('#df-51fc5900-3ce3-43e7-8782-eddd6ce4d630');\n",
              "          const dataTable =\n",
              "            await google.colab.kernel.invokeFunction('convertToInteractive',\n",
              "                                                     [key], {});\n",
              "          if (!dataTable) return;\n",
              "\n",
              "          const docLinkHtml = 'Like what you see? Visit the ' +\n",
              "            '<a target=\"_blank\" href=https://colab.research.google.com/notebooks/data_table.ipynb>data table notebook</a>'\n",
              "            + ' to learn more about interactive tables.';\n",
              "          element.innerHTML = '';\n",
              "          dataTable['output_type'] = 'display_data';\n",
              "          await google.colab.output.renderOutput(dataTable, element);\n",
              "          const docLink = document.createElement('div');\n",
              "          docLink.innerHTML = docLinkHtml;\n",
              "          element.appendChild(docLink);\n",
              "        }\n",
              "      </script>\n",
              "    </div>\n",
              "  </div>\n",
              "  "
            ]
          },
          "metadata": {},
          "execution_count": 235
        }
      ]
    },
    {
      "cell_type": "code",
      "source": [
        "test.head(5)"
      ],
      "metadata": {
        "colab": {
          "base_uri": "https://localhost:8080/",
          "height": 206
        },
        "id": "nnVJAWeKikh6",
        "outputId": "5e7738ba-c34e-46d8-fe02-6be9c5d68b69"
      },
      "execution_count": 236,
      "outputs": [
        {
          "output_type": "execute_result",
          "data": {
            "text/plain": [
              "          date  total_cases  new_cases\n",
              "50  2020-04-22      57999.0     5236.0\n",
              "51  2020-04-23      62773.0     4774.0\n",
              "52  2020-04-24      68622.0     5849.0\n",
              "53  2020-04-25      74588.0     5966.0\n",
              "54  2020-04-26      80949.0     6361.0"
            ],
            "text/html": [
              "\n",
              "  <div id=\"df-36a6cb9f-d347-49a9-b3c3-55c581a1b529\">\n",
              "    <div class=\"colab-df-container\">\n",
              "      <div>\n",
              "<style scoped>\n",
              "    .dataframe tbody tr th:only-of-type {\n",
              "        vertical-align: middle;\n",
              "    }\n",
              "\n",
              "    .dataframe tbody tr th {\n",
              "        vertical-align: top;\n",
              "    }\n",
              "\n",
              "    .dataframe thead th {\n",
              "        text-align: right;\n",
              "    }\n",
              "</style>\n",
              "<table border=\"1\" class=\"dataframe\">\n",
              "  <thead>\n",
              "    <tr style=\"text-align: right;\">\n",
              "      <th></th>\n",
              "      <th>date</th>\n",
              "      <th>total_cases</th>\n",
              "      <th>new_cases</th>\n",
              "    </tr>\n",
              "  </thead>\n",
              "  <tbody>\n",
              "    <tr>\n",
              "      <th>50</th>\n",
              "      <td>2020-04-22</td>\n",
              "      <td>57999.0</td>\n",
              "      <td>5236.0</td>\n",
              "    </tr>\n",
              "    <tr>\n",
              "      <th>51</th>\n",
              "      <td>2020-04-23</td>\n",
              "      <td>62773.0</td>\n",
              "      <td>4774.0</td>\n",
              "    </tr>\n",
              "    <tr>\n",
              "      <th>52</th>\n",
              "      <td>2020-04-24</td>\n",
              "      <td>68622.0</td>\n",
              "      <td>5849.0</td>\n",
              "    </tr>\n",
              "    <tr>\n",
              "      <th>53</th>\n",
              "      <td>2020-04-25</td>\n",
              "      <td>74588.0</td>\n",
              "      <td>5966.0</td>\n",
              "    </tr>\n",
              "    <tr>\n",
              "      <th>54</th>\n",
              "      <td>2020-04-26</td>\n",
              "      <td>80949.0</td>\n",
              "      <td>6361.0</td>\n",
              "    </tr>\n",
              "  </tbody>\n",
              "</table>\n",
              "</div>\n",
              "      <button class=\"colab-df-convert\" onclick=\"convertToInteractive('df-36a6cb9f-d347-49a9-b3c3-55c581a1b529')\"\n",
              "              title=\"Convert this dataframe to an interactive table.\"\n",
              "              style=\"display:none;\">\n",
              "        \n",
              "  <svg xmlns=\"http://www.w3.org/2000/svg\" height=\"24px\"viewBox=\"0 0 24 24\"\n",
              "       width=\"24px\">\n",
              "    <path d=\"M0 0h24v24H0V0z\" fill=\"none\"/>\n",
              "    <path d=\"M18.56 5.44l.94 2.06.94-2.06 2.06-.94-2.06-.94-.94-2.06-.94 2.06-2.06.94zm-11 1L8.5 8.5l.94-2.06 2.06-.94-2.06-.94L8.5 2.5l-.94 2.06-2.06.94zm10 10l.94 2.06.94-2.06 2.06-.94-2.06-.94-.94-2.06-.94 2.06-2.06.94z\"/><path d=\"M17.41 7.96l-1.37-1.37c-.4-.4-.92-.59-1.43-.59-.52 0-1.04.2-1.43.59L10.3 9.45l-7.72 7.72c-.78.78-.78 2.05 0 2.83L4 21.41c.39.39.9.59 1.41.59.51 0 1.02-.2 1.41-.59l7.78-7.78 2.81-2.81c.8-.78.8-2.07 0-2.86zM5.41 20L4 18.59l7.72-7.72 1.47 1.35L5.41 20z\"/>\n",
              "  </svg>\n",
              "      </button>\n",
              "      \n",
              "  <style>\n",
              "    .colab-df-container {\n",
              "      display:flex;\n",
              "      flex-wrap:wrap;\n",
              "      gap: 12px;\n",
              "    }\n",
              "\n",
              "    .colab-df-convert {\n",
              "      background-color: #E8F0FE;\n",
              "      border: none;\n",
              "      border-radius: 50%;\n",
              "      cursor: pointer;\n",
              "      display: none;\n",
              "      fill: #1967D2;\n",
              "      height: 32px;\n",
              "      padding: 0 0 0 0;\n",
              "      width: 32px;\n",
              "    }\n",
              "\n",
              "    .colab-df-convert:hover {\n",
              "      background-color: #E2EBFA;\n",
              "      box-shadow: 0px 1px 2px rgba(60, 64, 67, 0.3), 0px 1px 3px 1px rgba(60, 64, 67, 0.15);\n",
              "      fill: #174EA6;\n",
              "    }\n",
              "\n",
              "    [theme=dark] .colab-df-convert {\n",
              "      background-color: #3B4455;\n",
              "      fill: #D2E3FC;\n",
              "    }\n",
              "\n",
              "    [theme=dark] .colab-df-convert:hover {\n",
              "      background-color: #434B5C;\n",
              "      box-shadow: 0px 1px 3px 1px rgba(0, 0, 0, 0.15);\n",
              "      filter: drop-shadow(0px 1px 2px rgba(0, 0, 0, 0.3));\n",
              "      fill: #FFFFFF;\n",
              "    }\n",
              "  </style>\n",
              "\n",
              "      <script>\n",
              "        const buttonEl =\n",
              "          document.querySelector('#df-36a6cb9f-d347-49a9-b3c3-55c581a1b529 button.colab-df-convert');\n",
              "        buttonEl.style.display =\n",
              "          google.colab.kernel.accessAllowed ? 'block' : 'none';\n",
              "\n",
              "        async function convertToInteractive(key) {\n",
              "          const element = document.querySelector('#df-36a6cb9f-d347-49a9-b3c3-55c581a1b529');\n",
              "          const dataTable =\n",
              "            await google.colab.kernel.invokeFunction('convertToInteractive',\n",
              "                                                     [key], {});\n",
              "          if (!dataTable) return;\n",
              "\n",
              "          const docLinkHtml = 'Like what you see? Visit the ' +\n",
              "            '<a target=\"_blank\" href=https://colab.research.google.com/notebooks/data_table.ipynb>data table notebook</a>'\n",
              "            + ' to learn more about interactive tables.';\n",
              "          element.innerHTML = '';\n",
              "          dataTable['output_type'] = 'display_data';\n",
              "          await google.colab.output.renderOutput(dataTable, element);\n",
              "          const docLink = document.createElement('div');\n",
              "          docLink.innerHTML = docLinkHtml;\n",
              "          element.appendChild(docLink);\n",
              "        }\n",
              "      </script>\n",
              "    </div>\n",
              "  </div>\n",
              "  "
            ]
          },
          "metadata": {},
          "execution_count": 236
        }
      ]
    },
    {
      "cell_type": "markdown",
      "source": [
        "## Problem 2"
      ],
      "metadata": {
        "id": "D8z2oG9si-BV"
      }
    },
    {
      "cell_type": "markdown",
      "source": [
        "Постройте графики целевых переменных. Вы увидите, что число заболевших растёт очень быстро, на первый взгляд экспоненциально. Для первого подхода к снаряду давайте это и используем.\n",
        "\n",
        "\n",
        "*   Используя линейную регрессию, обучите модель с экспоненциальным ростом числа заболевших: y ~ exp(линейная функция от x), где x — номер текущего дня\n",
        "*   Используя линейную регрессию, обучите модель с экспоненциальным ростом числа заболевших: y ~ exp(линейная функция от x), где x — номер текущего дня\n",
        "*   Посэмплируйте много разных экспонент, постройте графики. Сколько, исходя из этих сэмплов, предсказывается случаев коронавируса в России к 1 мая? к 1 июня? к 1 сентября? Постройте предсказательные распределения (можно эмпирически, исходя из данных сэмплирования).\n",
        "\n"
      ],
      "metadata": {
        "id": "vlyEG9r3jDiH"
      }
    },
    {
      "cell_type": "code",
      "source": [
        "def plot_graph(values, y_name, title, x_name='День', size = (12,6)):\n",
        "    plt.figure(figsize=size)\n",
        "    plt.plot(values)\n",
        "    plt.xlabel(x_name)\n",
        "    plt.ylabel(y_name)\n",
        "    plt.title(title)\n",
        "\n",
        "    plt.grid()\n",
        "    plt.plot()\n"
      ],
      "metadata": {
        "id": "dNDYi50-j8BU"
      },
      "execution_count": 237,
      "outputs": []
    },
    {
      "cell_type": "code",
      "source": [
        "plot_graph(values=train[\"new_cases\"].values, \n",
        "           y_name='Количество новых случаев в день', \n",
        "           title='Количество заболевших Covid-19 по дням')"
      ],
      "metadata": {
        "colab": {
          "base_uri": "https://localhost:8080/",
          "height": 404
        },
        "id": "r861o3H0i-9x",
        "outputId": "8a7f84a3-5cd0-4298-be32-640420f2123b"
      },
      "execution_count": 238,
      "outputs": [
        {
          "output_type": "display_data",
          "data": {
            "text/plain": [
              "<Figure size 864x432 with 1 Axes>"
            ],
            "image/png": "[encoded data removed]"
          },
          "metadata": {
            "needs_background": "light"
          }
        }
      ]
    },
    {
      "cell_type": "code",
      "source": [
        "plot_graph(values=train[\"total_cases\"].values, \n",
        "           y_name='Кумулятивная сумма', \n",
        "           title='Общее количество заболевших Covid-19' )"
      ],
      "metadata": {
        "colab": {
          "base_uri": "https://localhost:8080/",
          "height": 404
        },
        "id": "RAOQRVWwjrKy",
        "outputId": "80ae8ee8-6a00-4bf2-fc75-b86f05511a49"
      },
      "execution_count": 239,
      "outputs": [
        {
          "output_type": "display_data",
          "data": {
            "text/plain": [
              "<Figure size 864x432 with 1 Axes>"
            ],
            "image/png": "[encoded data removed]"
          },
          "metadata": {
            "needs_background": "light"
          }
        }
      ]
    },
    {
      "cell_type": "code",
      "source": [
        "y_train_log, y_test_log = np.log(train[\"total_cases\"].values), \\\n",
        "                                np.log(test[\"total_cases\"].values)\n",
        "X_train, X_test = np.array(train.index).reshape(-1, 1), \\\n",
        "                    np.array(test.index).reshape(-1, 1)"
      ],
      "metadata": {
        "id": "rNkPfrmYno2I"
      },
      "execution_count": 240,
      "outputs": []
    },
    {
      "cell_type": "code",
      "source": [
        "clf = LinearRegression()\n",
        "clf.fit(X_train, y_train_log)\n",
        "y_pred = clf.predict(X_test)"
      ],
      "metadata": {
        "id": "utnkKQD7n4Nw"
      },
      "execution_count": 241,
      "outputs": []
    },
    {
      "cell_type": "code",
      "source": [
        "plt.figure(figsize=(12, 8))\n",
        "plt.plot(X_train, y_train_log, label=\"train\")\n",
        "plt.plot(X_test, y_test_log, label=\"test\")\n",
        "plt.plot(X_test, y_pred, label=\"predicted\")\n",
        "\n",
        "plt.xlabel(\"День\")\n",
        "plt.ylabel(\"Логарифм кумулятивной суммы\")\n",
        "plt.title(\"Предсказание модели\")\n",
        "\n",
        "plt.legend()\n",
        "plt.grid()\n",
        "plt.plot()"
      ],
      "metadata": {
        "colab": {
          "base_uri": "https://localhost:8080/",
          "height": 530
        },
        "id": "mkoqqu0aoPWA",
        "outputId": "14daa38f-5e9b-49ed-f837-a3cdac757d0b"
      },
      "execution_count": 242,
      "outputs": [
        {
          "output_type": "execute_result",
          "data": {
            "text/plain": [
              "[]"
            ]
          },
          "metadata": {},
          "execution_count": 242
        },
        {
          "output_type": "display_data",
          "data": {
            "text/plain": [
              "<Figure size 864x576 with 1 Axes>"
            ],
            "image/png": "[encoded data removed]"
          },
          "metadata": {
            "needs_background": "light"
          }
        }
      ]
    },
    {
      "cell_type": "code",
      "source": [
        "noize = np.std(y_train_log - clf.predict(X_train))\n",
        "sigma = 100 * np.eye(2)\n",
        "X_train_intercept = np.hstack((np.ones(X_train.shape[0]).reshape(-1, 1), \n",
        "                               X_train.reshape(-1, 1)))"
      ],
      "metadata": {
        "id": "hE0tUSVAoYK4"
      },
      "execution_count": 243,
      "outputs": []
    },
    {
      "cell_type": "code",
      "source": [
        "def bayesian_update(mu_init, sigma_init, x, y, sigma_noise):\n",
        "    sigma = np.linalg.inv(np.linalg.inv(sigma_init) + (1 / (sigma_noise ** 2)) * np.matmul(x.T, x))\n",
        "    mu = np.matmul(sigma, np.matmul(np.linalg.inv(sigma_init), mu_init.T) + \\\n",
        "                   (1 / (sigma_noise ** 2)) * np.matmul(x.T, y))\n",
        "    return mu, sigma"
      ],
      "metadata": {
        "id": "VqbRnu7Irjjf"
      },
      "execution_count": 244,
      "outputs": []
    },
    {
      "cell_type": "code",
      "source": [
        "mu, sigma = bayesian_update(np.zeros((2,)), sigma, X_train_intercept, \n",
        "                            y_train_log, noize)\n",
        "print(f\"mu={mu}\")\n",
        "print(f\"sigma={sigma}\")"
      ],
      "metadata": {
        "colab": {
          "base_uri": "https://localhost:8080/"
        },
        "id": "BAmhS7CpsEth",
        "outputId": "ea260b05-1d18-4181-e090-4c700095113f"
      },
      "execution_count": 245,
      "outputs": [
        {
          "output_type": "stream",
          "name": "stdout",
          "text": [
            "mu=[1.19323277 0.21411201]\n",
            "sigma=[[ 1.57133653e-02 -4.76162561e-04]\n",
            " [-4.76162561e-04  1.94359933e-05]]\n"
          ]
        }
      ]
    },
    {
      "cell_type": "code",
      "source": [
        "N = 500\n",
        "X = np.linspace(1, 1.4, N)\n",
        "Y = np.linspace(0.19, 0.23, N)\n",
        "X, Y = np.meshgrid(X, Y)\n",
        "\n",
        "pos = np.empty(X.shape + (2,))\n",
        "pos[:, :, 0], pos[:, :, 1] = X, Y\n",
        "\n",
        "Z = multivariate_normal.pdf(pos, mean=mu, cov=sigma)\n",
        "\n",
        "plt.figure(figsize=(12, 6))\n",
        "plt.pcolormesh(X, Y, Z, cmap=plt.cm.jet)\n",
        "plt.title(\"Апостериорное распределение\")\n",
        "plt.xlabel(\"Сдвиг\")\n",
        "plt.ylabel(\"Наклон\");"
      ],
      "metadata": {
        "colab": {
          "base_uri": "https://localhost:8080/",
          "height": 404
        },
        "id": "ypF3DUAtsMK5",
        "outputId": "c235ec93-4978-40de-cbe6-5ebaac6469ef"
      },
      "execution_count": 246,
      "outputs": [
        {
          "output_type": "display_data",
          "data": {
            "text/plain": [
              "<Figure size 864x432 with 1 Axes>"
            ],
            "image/png": "[encoded data removed]"
          },
          "metadata": {
            "needs_background": "light"
          }
        }
      ]
    },
    {
      "cell_type": "code",
      "source": [
        "def plot_several_graphs(x_vector, y_vector, labels, title, y_name, x_name='День', is_plt_created=False):\n",
        "    if not is_plt_created:\n",
        "        plt.figure(figsize=(12, 6))\n",
        "\n",
        "    for x, y, label_name in zip(x_vector, y_vector, labels):\n",
        "        plt.plot(x, y, label=label_name)\n",
        "    plt.title(title)\n",
        "    plt.xlabel(x_name)\n",
        "    plt.ylabel(y_name)\n",
        "    plt.legend()\n",
        "    plt.grid()"
      ],
      "metadata": {
        "id": "qMlakEn822kF"
      },
      "execution_count": 247,
      "outputs": []
    },
    {
      "cell_type": "code",
      "source": [
        "N = 100\n",
        "weights = np.random.multivariate_normal(mu, sigma, N)\n",
        "\n",
        "plt.figure(figsize=(12, 6))\n",
        "\n",
        "\n",
        "x_sampled = np.arange(data.shape[0])\n",
        "for b, w in weights:\n",
        "    plt.plot(x_sampled, np.exp(b + w * x_sampled), color='gray', lw=0.1)\n",
        "\n",
        "plot_several_graphs([X_train, X_test], [np.exp(y_train_log), np.exp(y_test_log)], \n",
        "                    ['train', 'test'], 'Сэмплирование экспонент', \n",
        "                    'Логарифм от общего числа зараженных', is_plt_created=True)\n",
        "\n",
        "plt.ylim((0, 1e7))\n",
        "plt.xlim((0, 400))  "
      ],
      "metadata": {
        "colab": {
          "base_uri": "https://localhost:8080/",
          "height": 421
        },
        "id": "zx0cC6IG3jQc",
        "outputId": "43299179-086a-4926-b846-4e17d7ac8294"
      },
      "execution_count": 248,
      "outputs": [
        {
          "output_type": "execute_result",
          "data": {
            "text/plain": [
              "(0.0, 400.0)"
            ]
          },
          "metadata": {},
          "execution_count": 248
        },
        {
          "output_type": "display_data",
          "data": {
            "text/plain": [
              "<Figure size 864x432 with 1 Axes>"
            ],
            "image/png": "[encoded data removed]"
          },
          "metadata": {
            "needs_background": "light"
          }
        }
      ]
    },
    {
      "cell_type": "code",
      "source": [
        "res = [data.loc[data[\"date\"] == date] for date \n",
        "       in [\"2020-05-01\", \"2020-06-01\", \"2020-09-01\"]]\n",
        "info = []\n",
        "for i, date in enumerate([\"2020-05-01\", \"2020-06-01\", \"2020-09-01\"]):\n",
        "    day = data[data[\"date\"] == date].index[0]\n",
        "    day = np.array([[day]])\n",
        "    pred_exp = np.exp(clf.predict(day))\n",
        "    info.append((date, int(res[i][\"total_cases\"].values[0]),  int(pred_exp[0]), \n",
        "                 int(pred_exp - res[i][\"total_cases\"].values)))\n",
        "pd.DataFrame(info, columns = ['Дата', 'Число заболевших', \n",
        "                              'Предсказанное значение', 'Разница'])"
      ],
      "metadata": {
        "colab": {
          "base_uri": "https://localhost:8080/",
          "height": 143
        },
        "id": "anh4YgURs6Z3",
        "outputId": "e96fe4e5-75a3-4f0e-fd60-664f7d9d6ad5"
      },
      "execution_count": 249,
      "outputs": [
        {
          "output_type": "execute_result",
          "data": {
            "text/plain": [
              "         Дата  Число заболевших  Предсказанное значение             Разница\n",
              "0  2020-05-01            114431                 1010236              895805\n",
              "1  2020-06-01            414878               770840678           770425800\n",
              "2  2020-09-01           1000048      276442156109051264  276442156108051200"
            ],
            "text/html": [
              "\n",
              "  <div id=\"df-123a2153-67c6-4f46-bfe3-bf398e652495\">\n",
              "    <div class=\"colab-df-container\">\n",
              "      <div>\n",
              "<style scoped>\n",
              "    .dataframe tbody tr th:only-of-type {\n",
              "        vertical-align: middle;\n",
              "    }\n",
              "\n",
              "    .dataframe tbody tr th {\n",
              "        vertical-align: top;\n",
              "    }\n",
              "\n",
              "    .dataframe thead th {\n",
              "        text-align: right;\n",
              "    }\n",
              "</style>\n",
              "<table border=\"1\" class=\"dataframe\">\n",
              "  <thead>\n",
              "    <tr style=\"text-align: right;\">\n",
              "      <th></th>\n",
              "      <th>Дата</th>\n",
              "      <th>Число заболевших</th>\n",
              "      <th>Предсказанное значение</th>\n",
              "      <th>Разница</th>\n",
              "    </tr>\n",
              "  </thead>\n",
              "  <tbody>\n",
              "    <tr>\n",
              "      <th>0</th>\n",
              "      <td>2020-05-01</td>\n",
              "      <td>114431</td>\n",
              "      <td>1010236</td>\n",
              "      <td>895805</td>\n",
              "    </tr>\n",
              "    <tr>\n",
              "      <th>1</th>\n",
              "      <td>2020-06-01</td>\n",
              "      <td>414878</td>\n",
              "      <td>770840678</td>\n",
              "      <td>770425800</td>\n",
              "    </tr>\n",
              "    <tr>\n",
              "      <th>2</th>\n",
              "      <td>2020-09-01</td>\n",
              "      <td>1000048</td>\n",
              "      <td>276442156109051264</td>\n",
              "      <td>276442156108051200</td>\n",
              "    </tr>\n",
              "  </tbody>\n",
              "</table>\n",
              "</div>\n",
              "      <button class=\"colab-df-convert\" onclick=\"convertToInteractive('df-123a2153-67c6-4f46-bfe3-bf398e652495')\"\n",
              "              title=\"Convert this dataframe to an interactive table.\"\n",
              "              style=\"display:none;\">\n",
              "        \n",
              "  <svg xmlns=\"http://www.w3.org/2000/svg\" height=\"24px\"viewBox=\"0 0 24 24\"\n",
              "       width=\"24px\">\n",
              "    <path d=\"M0 0h24v24H0V0z\" fill=\"none\"/>\n",
              "    <path d=\"M18.56 5.44l.94 2.06.94-2.06 2.06-.94-2.06-.94-.94-2.06-.94 2.06-2.06.94zm-11 1L8.5 8.5l.94-2.06 2.06-.94-2.06-.94L8.5 2.5l-.94 2.06-2.06.94zm10 10l.94 2.06.94-2.06 2.06-.94-2.06-.94-.94-2.06-.94 2.06-2.06.94z\"/><path d=\"M17.41 7.96l-1.37-1.37c-.4-.4-.92-.59-1.43-.59-.52 0-1.04.2-1.43.59L10.3 9.45l-7.72 7.72c-.78.78-.78 2.05 0 2.83L4 21.41c.39.39.9.59 1.41.59.51 0 1.02-.2 1.41-.59l7.78-7.78 2.81-2.81c.8-.78.8-2.07 0-2.86zM5.41 20L4 18.59l7.72-7.72 1.47 1.35L5.41 20z\"/>\n",
              "  </svg>\n",
              "      </button>\n",
              "      \n",
              "  <style>\n",
              "    .colab-df-container {\n",
              "      display:flex;\n",
              "      flex-wrap:wrap;\n",
              "      gap: 12px;\n",
              "    }\n",
              "\n",
              "    .colab-df-convert {\n",
              "      background-color: #E8F0FE;\n",
              "      border: none;\n",
              "      border-radius: 50%;\n",
              "      cursor: pointer;\n",
              "      display: none;\n",
              "      fill: #1967D2;\n",
              "      height: 32px;\n",
              "      padding: 0 0 0 0;\n",
              "      width: 32px;\n",
              "    }\n",
              "\n",
              "    .colab-df-convert:hover {\n",
              "      background-color: #E2EBFA;\n",
              "      box-shadow: 0px 1px 2px rgba(60, 64, 67, 0.3), 0px 1px 3px 1px rgba(60, 64, 67, 0.15);\n",
              "      fill: #174EA6;\n",
              "    }\n",
              "\n",
              "    [theme=dark] .colab-df-convert {\n",
              "      background-color: #3B4455;\n",
              "      fill: #D2E3FC;\n",
              "    }\n",
              "\n",
              "    [theme=dark] .colab-df-convert:hover {\n",
              "      background-color: #434B5C;\n",
              "      box-shadow: 0px 1px 3px 1px rgba(0, 0, 0, 0.15);\n",
              "      filter: drop-shadow(0px 1px 2px rgba(0, 0, 0, 0.3));\n",
              "      fill: #FFFFFF;\n",
              "    }\n",
              "  </style>\n",
              "\n",
              "      <script>\n",
              "        const buttonEl =\n",
              "          document.querySelector('#df-123a2153-67c6-4f46-bfe3-bf398e652495 button.colab-df-convert');\n",
              "        buttonEl.style.display =\n",
              "          google.colab.kernel.accessAllowed ? 'block' : 'none';\n",
              "\n",
              "        async function convertToInteractive(key) {\n",
              "          const element = document.querySelector('#df-123a2153-67c6-4f46-bfe3-bf398e652495');\n",
              "          const dataTable =\n",
              "            await google.colab.kernel.invokeFunction('convertToInteractive',\n",
              "                                                     [key], {});\n",
              "          if (!dataTable) return;\n",
              "\n",
              "          const docLinkHtml = 'Like what you see? Visit the ' +\n",
              "            '<a target=\"_blank\" href=https://colab.research.google.com/notebooks/data_table.ipynb>data table notebook</a>'\n",
              "            + ' to learn more about interactive tables.';\n",
              "          element.innerHTML = '';\n",
              "          dataTable['output_type'] = 'display_data';\n",
              "          await google.colab.output.renderOutput(dataTable, element);\n",
              "          const docLink = document.createElement('div');\n",
              "          docLink.innerHTML = docLinkHtml;\n",
              "          element.appendChild(docLink);\n",
              "        }\n",
              "      </script>\n",
              "    </div>\n",
              "  </div>\n",
              "  "
            ]
          },
          "metadata": {},
          "execution_count": 249
        }
      ]
    },
    {
      "cell_type": "code",
      "source": [
        "def plot_predictive_distribution(X, date, n_samples=1000):\n",
        "    days = X[X[\"date\"] == date].index[0]\n",
        "    weights = np.random.multivariate_normal(mu, sigma, n_samples)\n",
        "    a, b = weights[:, 0], weights[:, 1]\n",
        "    preds = np.exp(a + b * days)\n",
        "    plt.hist(preds, bins=30)\n",
        "    plt.title(f\"Распределение {date}\")\n",
        "    plt.xlabel(f\"Число заболевших\")\n",
        "    plt.ylabel(\"Частота\")\n",
        "    plt.show()"
      ],
      "metadata": {
        "id": "JpQFO9-vxSVt"
      },
      "execution_count": 250,
      "outputs": []
    },
    {
      "cell_type": "code",
      "source": [
        "plot_predictive_distribution(data, \"2020-05-01\")"
      ],
      "metadata": {
        "colab": {
          "base_uri": "https://localhost:8080/",
          "height": 295
        },
        "id": "e8OseVa-tdgm",
        "outputId": "d77d4e6c-753d-472c-b2c8-65a6d15331ac"
      },
      "execution_count": 251,
      "outputs": [
        {
          "output_type": "display_data",
          "data": {
            "text/plain": [
              "<Figure size 432x288 with 1 Axes>"
            ],
            "image/png": "[encoded data removed]"
          },
          "metadata": {
            "needs_background": "light"
          }
        }
      ]
    },
    {
      "cell_type": "code",
      "source": [
        "plot_predictive_distribution(data, \"2020-06-01\")"
      ],
      "metadata": {
        "colab": {
          "base_uri": "https://localhost:8080/",
          "height": 295
        },
        "id": "p2sLY2iPwG-G",
        "outputId": "2bc9a423-1b8b-42ab-9877-b067a5d83149"
      },
      "execution_count": 252,
      "outputs": [
        {
          "output_type": "display_data",
          "data": {
            "text/plain": [
              "<Figure size 432x288 with 1 Axes>"
            ],
            "image/png": "[encoded data removed]"
          },
          "metadata": {
            "needs_background": "light"
          }
        }
      ]
    },
    {
      "cell_type": "code",
      "source": [
        "plot_predictive_distribution(data, \"2020-09-01\")"
      ],
      "metadata": {
        "colab": {
          "base_uri": "https://localhost:8080/",
          "height": 295
        },
        "id": "AZFNcsBwyhp9",
        "outputId": "a43f47fd-a2f9-4106-e804-ef7d8fcd537d"
      },
      "execution_count": 253,
      "outputs": [
        {
          "output_type": "display_data",
          "data": {
            "text/plain": [
              "<Figure size 432x288 with 1 Axes>"
            ],
            "image/png": "[encoded data removed]"
          },
          "metadata": {
            "needs_background": "light"
          }
        }
      ]
    },
    {
      "cell_type": "markdown",
      "source": [
        "## Problem 3"
      ],
      "metadata": {
        "id": "QuKbmYdHykzb"
      }
    },
    {
      "cell_type": "markdown",
      "source": [
        "Предсказания экспоненциальной модели наверняка получились грустными. Но это, конечно, чересчур пессимистично — экспоненциальный рост в природе никак не может продолжаться вечно. Кривая общего числа заболевших во время эпидемии в реальности имеет сигмоидальный вид: после начальной фазы экспоненциального роста неизбежно происходит насыщение. В качестве конкретной формы такой сигмоиды давайте возьмём форму функции распределения для гауссиана:\n",
        "\n",
        "$$\\large{Ф(x) = \\frac{1}{\\sqrt{2\\pi}}\\int\\limits_{-\\infty}^x e^{-\\frac{t^2}{2}}\\,dt} $$\n",
        "\n",
        "\n",
        "Естественно, в нашем случае сигмоида стремится не к единице, т.е. константа перед интегралом может быть произвольной (и её можно внести в экспоненту), а в экспоненте под интегралом может быть произвольная квадратичная функция от t.\n",
        "\n",
        "*   Предложите способ обучать параметры такой сигмоидальной функции при помощи линейной регрессии.\n",
        "*   Обучите эти параметры на датасете случаев коронавируса в России. Найдите апостериорное распределение параметров этой модели для достаточно широкого априорного распределения. Требующееся для этого значение дисперсии шума в данных оцените, исходя из вашей же максимальной апостериорной модели.\n",
        "*   Посэмплируйте много разных сигмоид из апостериорного распределения, постройте графики. Сколько, исходя из этих сэмплов, будет всего случаев коронавируса в России? Постройте эмпирическое предсказательное распределение, нарисуйте графики. Каков ваш прогноз числа случаев коронавируса в пессимистичном сценарии (90-й процентиль в выборке числа случаев)? В оптимистичном сценарии (10-й процентиль)?\n",
        "\n",
        "\n"
      ],
      "metadata": {
        "id": "99ElgMlWynhg"
      }
    },
    {
      "cell_type": "markdown",
      "source": [
        "$$Ф(x) = \\frac{1}{\\sqrt{2\\pi}}\\int\\limits_{-\\infty}^x e^{-\\frac{t^2}{2}}\\,dt$$\n",
        "$$ t = wt + b \\rightarrow t^2 = w_2t^2 + w_1t + w_0$$\n",
        "$$Ф(x) = \\frac{1}{\\sqrt{2\\pi}}\\int\\limits_{-\\infty}^x e^{w_2't^2 + w_1't + w_0'}\\,dt$$"
      ],
      "metadata": {
        "id": "qEbj2k5uznTb"
      }
    },
    {
      "cell_type": "markdown",
      "source": [
        "В таком случае для y':\n",
        "$$ y' = e^{w_2't^2 + w_1't + w_0'} $$\n",
        "$$ ln(y') = w_2t^2 + w_1t + w_0 $$\n",
        "Линейна относительно весов"
      ],
      "metadata": {
        "id": "TrIURId80KXS"
      }
    },
    {
      "cell_type": "code",
      "source": [],
      "metadata": {
        "id": "71HuQ3qd2yhc"
      },
      "execution_count": 253,
      "outputs": []
    },
    {
      "cell_type": "code",
      "source": [
        "# getting w2*t**2, w*t, w\n",
        "get_poly_coeffs = lambda x: np.hstack((np.ones((x.shape[0])).reshape(-1, 1), x, x**2))\n",
        "full_data = np.array(data.index).reshape(-1, 1)\n",
        "X_train_poly = get_poly_coeffs(X_train)\n",
        "X_poly = get_poly_coeffs(full_data)\n",
        "y_train, y_test = train[\"new_cases\"].values, test[\"new_cases\"].values"
      ],
      "metadata": {
        "id": "A56FhCSM0Snd"
      },
      "execution_count": 254,
      "outputs": []
    },
    {
      "cell_type": "code",
      "source": [
        "pol_clf = LinearRegression(fit_intercept=False)\n",
        "pol_clf.fit(X_train_poly, np.log(y_train))\n",
        "preds = pol_clf.predict(X_poly)"
      ],
      "metadata": {
        "id": "HcEq90Us2fvl"
      },
      "execution_count": 255,
      "outputs": []
    },
    {
      "cell_type": "code",
      "source": [
        "x_vector = [X_train, X_test, full_data]\n",
        "y_vector = [y_train, y_test, np.exp(preds)]\n",
        "label_list = ['train', 'test', 'predicted']\n",
        "\n",
        "plot_several_graphs(x_vector, y_vector, label_list,\n",
        "                    'Предсказание новой модели', 'Количество новых случаев')\n"
      ],
      "metadata": {
        "colab": {
          "base_uri": "https://localhost:8080/",
          "height": 404
        },
        "id": "kh3aCVCt2s_s",
        "outputId": "d28ad456-c9b7-4976-ff45-c6940562762c"
      },
      "execution_count": 256,
      "outputs": [
        {
          "output_type": "display_data",
          "data": {
            "text/plain": [
              "<Figure size 864x432 with 1 Axes>"
            ],
            "image/png": "[encoded data removed]"
          },
          "metadata": {
            "needs_background": "light"
          }
        }
      ]
    },
    {
      "cell_type": "code",
      "source": [
        "noize = np.std(np.log(y_train) - pol_clf.predict(X_train_poly))\n",
        "mu = np.zeros((3,))\n",
        "sigma = 100 * np.eye(3)\n",
        "\n",
        "mu, sigma = bayesian_update(mu, sigma, X_train_poly, np.log(y_train), noize)\n",
        "print(f\"mu={mu}\")\n",
        "print(f\"sigma={sigma}\")"
      ],
      "metadata": {
        "colab": {
          "base_uri": "https://localhost:8080/"
        },
        "id": "X4T6RUnv7JH8",
        "outputId": "58329cdf-2ba7-4966-b883-c6bb8d77d669"
      },
      "execution_count": 257,
      "outputs": [
        {
          "output_type": "stream",
          "name": "stdout",
          "text": [
            "mu=[-0.87043636  0.25810802 -0.00118733]\n",
            "sigma=[[ 2.37447987e-01 -1.91843450e-02  3.22967855e-04]\n",
            " [-1.91843450e-02  2.11662617e-03 -4.04050781e-05]\n",
            " [ 3.22967855e-04 -4.04050781e-05  8.24816486e-07]]\n"
          ]
        }
      ]
    },
    {
      "cell_type": "code",
      "source": [
        "N = 400\n",
        "weights = np.random.multivariate_normal(mu, sigma, N)\n",
        "\n",
        "plt.figure(figsize=(12, 6))\n",
        "pred_list = []\n",
        "\n",
        "x_sampled = np.arange(data.shape[0])\n",
        "for b, w1, w2 in weights:\n",
        "    preds = np.exp(b + w1 * x_sampled + w2 * (x_sampled ** 2))\n",
        "    pred_list.append(preds)\n",
        "    plt.plot(x_sampled, preds, color='gray', lw=0.1)\n",
        "\n",
        "plot_several_graphs([X_train, X_test], [y_train, y_test], \n",
        "                    ['train', 'test'], 'Сэмплирование сигмоид', 'бщего числа зараженных',\n",
        "                    is_plt_created=True)\n",
        "\n",
        "plt.ylim((0, 1e5))\n",
        "sum_list = np.array(pred_list).cumsum(axis=1)"
      ],
      "metadata": {
        "colab": {
          "base_uri": "https://localhost:8080/",
          "height": 543
        },
        "id": "MLIWbCCD7RL-",
        "outputId": "771dacc2-d5a3-4597-fc5e-902c228720dc"
      },
      "execution_count": 281,
      "outputs": [
        {
          "output_type": "stream",
          "name": "stderr",
          "text": [
            "<ipython-input-281-7feda6a4ddfe>:9: RuntimeWarning: overflow encountered in exp\n",
            "  preds = np.exp(b + w1 * x_sampled + w2 * (x_sampled ** 2))\n",
            "<ipython-input-281-7feda6a4ddfe>:18: RuntimeWarning: overflow encountered in accumulate\n",
            "  sum_list = np.array(pred_list).cumsum(axis=1)\n",
            "/usr/local/lib/python3.9/dist-packages/IPython/core/events.py:88: UserWarning: Creating legend with loc=\"best\" can be slow with large amounts of data.\n",
            "  func(*args, **kwargs)\n",
            "/usr/local/lib/python3.9/dist-packages/IPython/core/pylabtools.py:128: UserWarning: Creating legend with loc=\"best\" can be slow with large amounts of data.\n",
            "  fig.canvas.print_figure(bytes_io, **kw)\n"
          ]
        },
        {
          "output_type": "display_data",
          "data": {
            "text/plain": [
              "<Figure size 864x432 with 1 Axes>"
            ],
            "image/png": "[encoded data removed]"
          },
          "metadata": {
            "needs_background": "light"
          }
        }
      ]
    },
    {
      "cell_type": "code",
      "source": [
        "res = [data.loc[data[\"date\"] == date] for date \n",
        "       in [\"2020-05-01\", \"2020-06-01\", \"2020-09-01\"]]\n",
        "\n",
        "for i, date in enumerate([\"2020-05-01\", \"2020-06-01\", \"2020-09-01\"]):\n",
        "    print(\"Дата:\", date)\n",
        "    print(\"Общее количество заболевших:\", *res[i][\"total_cases\"].values)\n",
        "    day = data[data[\"date\"] == date].index[0]\n",
        "    day = np.array([[day]])\n",
        "    pred = sum_list[:, day]\n",
        "    print(\"Предсказание пессимистичный сценарий:\", int(np.percentile(pred, 90)))\n",
        "    print(\"Предсказание оптимистичный сценарий:\", int(np.percentile(pred, 10)))\n",
        "    print()"
      ],
      "metadata": {
        "colab": {
          "base_uri": "https://localhost:8080/"
        },
        "id": "BXIyV3nb8ssz",
        "outputId": "ed8b9013-32b6-4c23-a937-5eb641da747c"
      },
      "execution_count": 259,
      "outputs": [
        {
          "output_type": "stream",
          "name": "stdout",
          "text": [
            "Дата: 2020-05-01\n",
            "Общее количество заболевших: 114431.0\n",
            "Предсказание пессимистичный сценарий: 539470\n",
            "Предсказание оптимистичный сценарий: 94251\n",
            "\n",
            "Дата: 2020-06-01\n",
            "Общее количество заболевших: 414878.0\n",
            "Предсказание пессимистичный сценарий: 232535613\n",
            "Предсказание оптимистичный сценарий: 273787\n",
            "\n",
            "Дата: 2020-09-01\n",
            "Общее количество заболевших: 1000048.0\n",
            "Предсказание пессимистичный сценарий: 11370591823408200\n",
            "Предсказание оптимистичный сценарий: 282311\n",
            "\n"
          ]
        }
      ]
    },
    {
      "cell_type": "code",
      "source": [
        "sum_list"
      ],
      "metadata": {
        "colab": {
          "base_uri": "https://localhost:8080/"
        },
        "id": "yiZxgKLlJfdJ",
        "outputId": "fcd855e7-cc55-427d-ef43-4951e17611a4"
      },
      "execution_count": 290,
      "outputs": [
        {
          "output_type": "execute_result",
          "data": {
            "text/plain": [
              "array([[7.39012926e-01, 1.61827861e+00, 2.66561518e+00, ...,\n",
              "                   inf,            inf,            inf],\n",
              "       [3.40284845e-01, 7.87892734e-01, 1.37509172e+00, ...,\n",
              "        2.21731085e+07, 2.21731085e+07, 2.21731085e+07],\n",
              "       [3.44472327e-01, 7.98998573e-01, 1.39699460e+00, ...,\n",
              "        9.84537601e+06, 9.84537601e+06, 9.84537601e+06],\n",
              "       ...,\n",
              "       [3.09591736e-01, 7.28103954e-01, 1.29127953e+00, ...,\n",
              "        2.80038642e+05, 2.80038642e+05, 2.80038642e+05],\n",
              "       [2.20489502e-01, 5.13712330e-01, 9.02563471e-01, ...,\n",
              "        2.18749233e+07, 2.18749233e+07, 2.18749233e+07],\n",
              "       [4.42524424e-01, 1.03482307e+00, 1.82465221e+00, ...,\n",
              "        1.98747912e+06, 1.98747912e+06, 1.98747912e+06]])"
            ]
          },
          "metadata": {},
          "execution_count": 290
        }
      ]
    },
    {
      "cell_type": "code",
      "source": [
        "res = [data.loc[data[\"date\"] == date] for date \n",
        "       in [\"2020-05-01\", \"2020-06-01\", \"2020-09-01\"]]\n",
        "info = []\n",
        "for i, date in enumerate([\"2020-05-01\", \"2020-06-01\", \"2020-09-01\"]):\n",
        "    day = data[data[\"date\"] == date].index[0]\n",
        "    day = np.array([[day]])\n",
        "    pred = sum_list[:, day]\n",
        "    info.append((date, int(res[i][\"total_cases\"].values[0]), \n",
        "                 int(np.percentile(pred, 90)), \n",
        "                 int(np.percentile(pred, 10)),\n",
        "                int(res[i][\"total_cases\"].values[0]) - int(np.percentile(pred, 10))))\n",
        "pd.DataFrame(info, columns = ['Дата', 'Число заболевших', \n",
        "                              'Пессимистичное предсказание', \n",
        "                              'Оптимистичное предсказание', 'Разница с оптимистичным'])"
      ],
      "metadata": {
        "colab": {
          "base_uri": "https://localhost:8080/",
          "height": 143
        },
        "id": "GenZRm28Cxrv",
        "outputId": "1ad59bd9-09ae-4587-9a31-61fe4cdf3de0"
      },
      "execution_count": 282,
      "outputs": [
        {
          "output_type": "execute_result",
          "data": {
            "text/plain": [
              "         Дата  Число заболевших  Пессимистичное предсказание  \\\n",
              "0  2020-05-01            114431                       559632   \n",
              "1  2020-06-01            414878                    206719316   \n",
              "2  2020-09-01           1000048             6080803227894458   \n",
              "\n",
              "   Оптимистичное предсказание  Разница с оптимистичным  \n",
              "0                       92969                    21462  \n",
              "1                      294429                   120449  \n",
              "2                      325021                   675027  "
            ],
            "text/html": [
              "\n",
              "  <div id=\"df-a22e890d-19b1-49a9-bff6-82f522c8faa4\">\n",
              "    <div class=\"colab-df-container\">\n",
              "      <div>\n",
              "<style scoped>\n",
              "    .dataframe tbody tr th:only-of-type {\n",
              "        vertical-align: middle;\n",
              "    }\n",
              "\n",
              "    .dataframe tbody tr th {\n",
              "        vertical-align: top;\n",
              "    }\n",
              "\n",
              "    .dataframe thead th {\n",
              "        text-align: right;\n",
              "    }\n",
              "</style>\n",
              "<table border=\"1\" class=\"dataframe\">\n",
              "  <thead>\n",
              "    <tr style=\"text-align: right;\">\n",
              "      <th></th>\n",
              "      <th>Дата</th>\n",
              "      <th>Число заболевших</th>\n",
              "      <th>Пессимистичное предсказание</th>\n",
              "      <th>Оптимистичное предсказание</th>\n",
              "      <th>Разница с оптимистичным</th>\n",
              "    </tr>\n",
              "  </thead>\n",
              "  <tbody>\n",
              "    <tr>\n",
              "      <th>0</th>\n",
              "      <td>2020-05-01</td>\n",
              "      <td>114431</td>\n",
              "      <td>559632</td>\n",
              "      <td>92969</td>\n",
              "      <td>21462</td>\n",
              "    </tr>\n",
              "    <tr>\n",
              "      <th>1</th>\n",
              "      <td>2020-06-01</td>\n",
              "      <td>414878</td>\n",
              "      <td>206719316</td>\n",
              "      <td>294429</td>\n",
              "      <td>120449</td>\n",
              "    </tr>\n",
              "    <tr>\n",
              "      <th>2</th>\n",
              "      <td>2020-09-01</td>\n",
              "      <td>1000048</td>\n",
              "      <td>6080803227894458</td>\n",
              "      <td>325021</td>\n",
              "      <td>675027</td>\n",
              "    </tr>\n",
              "  </tbody>\n",
              "</table>\n",
              "</div>\n",
              "      <button class=\"colab-df-convert\" onclick=\"convertToInteractive('df-a22e890d-19b1-49a9-bff6-82f522c8faa4')\"\n",
              "              title=\"Convert this dataframe to an interactive table.\"\n",
              "              style=\"display:none;\">\n",
              "        \n",
              "  <svg xmlns=\"http://www.w3.org/2000/svg\" height=\"24px\"viewBox=\"0 0 24 24\"\n",
              "       width=\"24px\">\n",
              "    <path d=\"M0 0h24v24H0V0z\" fill=\"none\"/>\n",
              "    <path d=\"M18.56 5.44l.94 2.06.94-2.06 2.06-.94-2.06-.94-.94-2.06-.94 2.06-2.06.94zm-11 1L8.5 8.5l.94-2.06 2.06-.94-2.06-.94L8.5 2.5l-.94 2.06-2.06.94zm10 10l.94 2.06.94-2.06 2.06-.94-2.06-.94-.94-2.06-.94 2.06-2.06.94z\"/><path d=\"M17.41 7.96l-1.37-1.37c-.4-.4-.92-.59-1.43-.59-.52 0-1.04.2-1.43.59L10.3 9.45l-7.72 7.72c-.78.78-.78 2.05 0 2.83L4 21.41c.39.39.9.59 1.41.59.51 0 1.02-.2 1.41-.59l7.78-7.78 2.81-2.81c.8-.78.8-2.07 0-2.86zM5.41 20L4 18.59l7.72-7.72 1.47 1.35L5.41 20z\"/>\n",
              "  </svg>\n",
              "      </button>\n",
              "      \n",
              "  <style>\n",
              "    .colab-df-container {\n",
              "      display:flex;\n",
              "      flex-wrap:wrap;\n",
              "      gap: 12px;\n",
              "    }\n",
              "\n",
              "    .colab-df-convert {\n",
              "      background-color: #E8F0FE;\n",
              "      border: none;\n",
              "      border-radius: 50%;\n",
              "      cursor: pointer;\n",
              "      display: none;\n",
              "      fill: #1967D2;\n",
              "      height: 32px;\n",
              "      padding: 0 0 0 0;\n",
              "      width: 32px;\n",
              "    }\n",
              "\n",
              "    .colab-df-convert:hover {\n",
              "      background-color: #E2EBFA;\n",
              "      box-shadow: 0px 1px 2px rgba(60, 64, 67, 0.3), 0px 1px 3px 1px rgba(60, 64, 67, 0.15);\n",
              "      fill: #174EA6;\n",
              "    }\n",
              "\n",
              "    [theme=dark] .colab-df-convert {\n",
              "      background-color: #3B4455;\n",
              "      fill: #D2E3FC;\n",
              "    }\n",
              "\n",
              "    [theme=dark] .colab-df-convert:hover {\n",
              "      background-color: #434B5C;\n",
              "      box-shadow: 0px 1px 3px 1px rgba(0, 0, 0, 0.15);\n",
              "      filter: drop-shadow(0px 1px 2px rgba(0, 0, 0, 0.3));\n",
              "      fill: #FFFFFF;\n",
              "    }\n",
              "  </style>\n",
              "\n",
              "      <script>\n",
              "        const buttonEl =\n",
              "          document.querySelector('#df-a22e890d-19b1-49a9-bff6-82f522c8faa4 button.colab-df-convert');\n",
              "        buttonEl.style.display =\n",
              "          google.colab.kernel.accessAllowed ? 'block' : 'none';\n",
              "\n",
              "        async function convertToInteractive(key) {\n",
              "          const element = document.querySelector('#df-a22e890d-19b1-49a9-bff6-82f522c8faa4');\n",
              "          const dataTable =\n",
              "            await google.colab.kernel.invokeFunction('convertToInteractive',\n",
              "                                                     [key], {});\n",
              "          if (!dataTable) return;\n",
              "\n",
              "          const docLinkHtml = 'Like what you see? Visit the ' +\n",
              "            '<a target=\"_blank\" href=https://colab.research.google.com/notebooks/data_table.ipynb>data table notebook</a>'\n",
              "            + ' to learn more about interactive tables.';\n",
              "          element.innerHTML = '';\n",
              "          dataTable['output_type'] = 'display_data';\n",
              "          await google.colab.output.renderOutput(dataTable, element);\n",
              "          const docLink = document.createElement('div');\n",
              "          docLink.innerHTML = docLinkHtml;\n",
              "          element.appendChild(docLink);\n",
              "        }\n",
              "      </script>\n",
              "    </div>\n",
              "  </div>\n",
              "  "
            ]
          },
          "metadata": {},
          "execution_count": 282
        }
      ]
    },
    {
      "cell_type": "markdown",
      "source": [
        "Выводы:\n",
        "\n",
        "Последний способ оказался намного эффективнее наивного и обычного экспонециального решения. Оптимистические показатели не сильно отличаются от реальных. Идейно можно взять значение перцентиля как гиперпараметр в данной задаче."
      ],
      "metadata": {
        "id": "ATTqgDHSKoCQ"
      }
    }
  ]
}