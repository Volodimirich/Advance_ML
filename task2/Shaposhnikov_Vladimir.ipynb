{
 "cells": [
  {
   "cell_type": "code",
   "execution_count": 3,
   "metadata": {
    "id": "X15YclKn96Ja"
   },
   "outputs": [],
   "source": [
    "import pickle\n",
    "from scipy import sparse\n",
    "import statistics\n",
    "from tqdm import tqdm\n",
    "import scipy.stats as sts\n",
    "from sklearn.preprocessing importOneHotEncoder\n",
    "from scipy.stats.mstats import spearmanr, kendalltau\n",
    "import torch.nn as nn\n",
    "import torch\n",
    "import torch.nn.functional as F\n",
    "from datetime import datetime\n",
    "from collections import defaultdict\n",
    "import matplotlib.pyplot as plt\n",
    "import numpy as np\n",
    "import pandas as pd\n",
    "import requests\n",
    "import itertools\n",
    "import math\n"
   ]
  },
  {
   "cell_type": "code",
   "execution_count": 5,
   "metadata": {
    "colab": {
     "base_uri": "https://localhost:8080/"
    },
    "id": "Ncq-BlRg_EdO",
    "outputId": "9c844cb6-83a5-4c71-bccd-6d9459ca7233"
   },
   "outputs": [
    {
     "name": "stdout",
     "output_type": "stream",
     "text": [
      "Archive:  ./chgk.zip\n",
      "replace players.pkl? [y]es, [n]o, [A]ll, [N]one, [r]ename: ^C\n"
     ]
    }
   ],
   "source": [
    "# !unzip ./chgk.zip"
   ]
  },
  {
   "cell_type": "code",
   "execution_count": 6,
   "metadata": {
    "id": "SzdxuvTI-cAw"
   },
   "outputs": [],
   "source": [
    "with open('results.pkl', 'rb') as file:\n",
    "    results_pkl = pickle.load(file)\n",
    "with open('./players.pkl', 'rb') as file:\n",
    "    players_pkl = pickle.load(file)\n",
    "with open('./tournaments.pkl', 'rb') as file:\n",
    "    tournaments_pkl = pickle.load(file)"
   ]
  },
  {
   "cell_type": "code",
   "execution_count": 7,
   "metadata": {
    "colab": {
     "base_uri": "https://localhost:8080/",
     "height": 206
    },
    "id": "Z451JQ31_Bhn",
    "outputId": "e8e1b47d-a7d1-490b-da0f-f2ca87d3ad9b"
   },
   "outputs": [
    {
     "data": {
      "text/html": [
       "<div>\n",
       "<style scoped>\n",
       "    .dataframe tbody tr th:only-of-type {\n",
       "        vertical-align: middle;\n",
       "    }\n",
       "\n",
       "    .dataframe tbody tr th {\n",
       "        vertical-align: top;\n",
       "    }\n",
       "\n",
       "    .dataframe thead th {\n",
       "        text-align: right;\n",
       "    }\n",
       "</style>\n",
       "<table border=\"1\" class=\"dataframe\">\n",
       "  <thead>\n",
       "    <tr style=\"text-align: right;\">\n",
       "      <th></th>\n",
       "      <th>id</th>\n",
       "      <th>name</th>\n",
       "      <th>patronymic</th>\n",
       "      <th>surname</th>\n",
       "    </tr>\n",
       "  </thead>\n",
       "  <tbody>\n",
       "    <tr>\n",
       "      <th>1</th>\n",
       "      <td>1</td>\n",
       "      <td>Алексей</td>\n",
       "      <td></td>\n",
       "      <td>Абабилов</td>\n",
       "    </tr>\n",
       "    <tr>\n",
       "      <th>10</th>\n",
       "      <td>10</td>\n",
       "      <td>Игорь</td>\n",
       "      <td></td>\n",
       "      <td>Абалов</td>\n",
       "    </tr>\n",
       "    <tr>\n",
       "      <th>11</th>\n",
       "      <td>11</td>\n",
       "      <td>Наталья</td>\n",
       "      <td>Юрьевна</td>\n",
       "      <td>Абалымова</td>\n",
       "    </tr>\n",
       "    <tr>\n",
       "      <th>12</th>\n",
       "      <td>12</td>\n",
       "      <td>Артур</td>\n",
       "      <td>Евгеньевич</td>\n",
       "      <td>Абальян</td>\n",
       "    </tr>\n",
       "    <tr>\n",
       "      <th>13</th>\n",
       "      <td>13</td>\n",
       "      <td>Эрик</td>\n",
       "      <td>Евгеньевич</td>\n",
       "      <td>Абальян</td>\n",
       "    </tr>\n",
       "  </tbody>\n",
       "</table>\n",
       "</div>"
      ],
      "text/plain": [
       "    id     name  patronymic    surname\n",
       "1    1  Алексей               Абабилов\n",
       "10  10    Игорь                 Абалов\n",
       "11  11  Наталья     Юрьевна  Абалымова\n",
       "12  12    Артур  Евгеньевич    Абальян\n",
       "13  13     Эрик  Евгеньевич    Абальян"
      ]
     },
     "execution_count": 7,
     "metadata": {},
     "output_type": "execute_result"
    }
   ],
   "source": [
    "players = pd.DataFrame(players_pkl).transpose()\n",
    "players[\"id\"] = players[\"id\"].astype(int)\n",
    "\n",
    "players.fillna(\"\",inplace=True)\n",
    "players.head()"
   ]
  },
  {
   "cell_type": "code",
   "execution_count": 8,
   "metadata": {
    "colab": {
     "base_uri": "https://localhost:8080/",
     "height": 206
    },
    "id": "sCAel4Y_G3sz",
    "outputId": "6f6747ce-5c27-4e35-9b33-7150798f5b3c"
   },
   "outputs": [
    {
     "data": {
      "text/html": [
       "<div>\n",
       "<style scoped>\n",
       "    .dataframe tbody tr th:only-of-type {\n",
       "        vertical-align: middle;\n",
       "    }\n",
       "\n",
       "    .dataframe tbody tr th {\n",
       "        vertical-align: top;\n",
       "    }\n",
       "\n",
       "    .dataframe thead th {\n",
       "        text-align: right;\n",
       "    }\n",
       "</style>\n",
       "<table border=\"1\" class=\"dataframe\">\n",
       "  <thead>\n",
       "    <tr style=\"text-align: right;\">\n",
       "      <th></th>\n",
       "      <th>id</th>\n",
       "    </tr>\n",
       "  </thead>\n",
       "  <tbody>\n",
       "    <tr>\n",
       "      <th>0</th>\n",
       "      <td>4772</td>\n",
       "    </tr>\n",
       "    <tr>\n",
       "      <th>1</th>\n",
       "      <td>4973</td>\n",
       "    </tr>\n",
       "    <tr>\n",
       "      <th>2</th>\n",
       "      <td>4974</td>\n",
       "    </tr>\n",
       "    <tr>\n",
       "      <th>3</th>\n",
       "      <td>4975</td>\n",
       "    </tr>\n",
       "    <tr>\n",
       "      <th>4</th>\n",
       "      <td>4986</td>\n",
       "    </tr>\n",
       "  </tbody>\n",
       "</table>\n",
       "</div>"
      ],
      "text/plain": [
       "     id\n",
       "0  4772\n",
       "1  4973\n",
       "2  4974\n",
       "3  4975\n",
       "4  4986"
      ]
     },
     "execution_count": 8,
     "metadata": {},
     "output_type": "execute_result"
    }
   ],
   "source": [
    "tournaments = pd.DataFrame(tournaments_pkl).transpose()\n",
    "tournaments[\"id\"] = tournaments[\"id\"].astype(int)\n",
    "\n",
    "tournaments[\"dateStart\"] = pd.to_datetime(tournaments[\"dateStart\"].str[:18], infer_datetime_format=True)\n",
    "tournaments[\"dateEnd\"] = pd.to_datetime(tournaments[\"dateEnd\"].str[:18], infer_datetime_format=True)\n",
    "drop_columns =[\"name\", \"dateStart\", \"dateEnd\", \"type\", \"season\", \"orgcommittee\", \"synchData\", \"questionQty\"]\n",
    "\n",
    "tournaments_train = tournaments[tournaments[\"dateStart\"].dt.year == 2019].reset_index(drop=True)\n",
    "tournaments_train.drop(columns=drop_columns, inplace=True)\n",
    "\n",
    "tournaments_test = tournaments[tournaments[\"dateStart\"].dt.year == 2020].reset_index(drop=True)\n",
    "tournaments_test.drop(columns=drop_columns, inplace=True)\n",
    "tournaments_train.head()"
   ]
  },
  {
   "cell_type": "code",
   "execution_count": 9,
   "metadata": {
    "colab": {
     "base_uri": "https://localhost:8080/",
     "height": 337
    },
    "id": "VFJ-VxK_CMc8",
    "outputId": "0a72fca2-9a82-4da9-c551-0197b0e11683"
   },
   "outputs": [
    {
     "data": {
      "text/html": [
       "<div>\n",
       "<style scoped>\n",
       "    .dataframe tbody tr th:only-of-type {\n",
       "        vertical-align: middle;\n",
       "    }\n",
       "\n",
       "    .dataframe tbody tr th {\n",
       "        vertical-align: top;\n",
       "    }\n",
       "\n",
       "    .dataframe thead th {\n",
       "        text-align: right;\n",
       "    }\n",
       "</style>\n",
       "<table border=\"1\" class=\"dataframe\">\n",
       "  <thead>\n",
       "    <tr style=\"text-align: right;\">\n",
       "      <th></th>\n",
       "      <th>team_id</th>\n",
       "      <th>position</th>\n",
       "      <th>result</th>\n",
       "      <th>players</th>\n",
       "      <th>id</th>\n",
       "    </tr>\n",
       "  </thead>\n",
       "  <tbody>\n",
       "    <tr>\n",
       "      <th>22</th>\n",
       "      <td>[1, 2, 670, 173, 175, 188, 240, 176, 5, 7, 3, ...</td>\n",
       "      <td>[1, 2.5, 2.5, 4.5, 4.5, 6.5, 6.5, 8, 9, 10, 11...</td>\n",
       "      <td>[011101110110111000110111001111111111001111110...</td>\n",
       "      <td>[[1560, 2935, 3270, 4878, 18935, 32979, 36497]...</td>\n",
       "      <td>22</td>\n",
       "    </tr>\n",
       "    <tr>\n",
       "      <th>76</th>\n",
       "      <td>[5, 188, 1, 2, 7, 175, 3, 168, 313, 1902, 173,...</td>\n",
       "      <td>[1, 2, 3, 4, 5, 6, 8.5, 8.5, 8.5, 8.5, 11, 12....</td>\n",
       "      <td>[001111101111111001011101111011100001110010111...</td>\n",
       "      <td>[[1603, 5935, 17050, 18036, 18332, 30990], [32...</td>\n",
       "      <td>76</td>\n",
       "    </tr>\n",
       "    <tr>\n",
       "      <th>141</th>\n",
       "      <td>[1, 188, 670, 2, 168, 5335, 5, 313, 414, 700, ...</td>\n",
       "      <td>[1, 2.5, 2.5, 4, 5, 6, 9, 9, 9, 9, 9, 12.5, 12...</td>\n",
       "      <td>[110110111101111111011110011110111111100111111...</td>\n",
       "      <td>[[2935, 3270, 18935, 20612, 29800, 32979], [32...</td>\n",
       "      <td>141</td>\n",
       "    </tr>\n",
       "    <tr>\n",
       "      <th>226</th>\n",
       "      <td>[5, 1, 168, 188, 670, 2, 175, 414, 214, 967, 2...</td>\n",
       "      <td>[1, 2.5, 2.5, 4.5, 4.5, 6.5, 6.5, 8, 10, 10, 1...</td>\n",
       "      <td>[101011110010010101111010111110110011011111111...</td>\n",
       "      <td>[[5935, 17050, 18036, 18332, 30990, 35065], [2...</td>\n",
       "      <td>226</td>\n",
       "    </tr>\n",
       "    <tr>\n",
       "      <th>315</th>\n",
       "      <td>[2, 188, 5, 670, 26, 173, 6000, 1, 168, 407, 1...</td>\n",
       "      <td>[1, 2, 3.5, 3.5, 6, 6, 6, 8.5, 8.5, 10.5, 10.5...</td>\n",
       "      <td>[011111000111101111110111111110111101001011111...</td>\n",
       "      <td>[[27403, 25882, 30475, 34846, 13551, 707, 2180...</td>\n",
       "      <td>315</td>\n",
       "    </tr>\n",
       "  </tbody>\n",
       "</table>\n",
       "</div>"
      ],
      "text/plain": [
       "                                               team_id  \\\n",
       "22   [1, 2, 670, 173, 175, 188, 240, 176, 5, 7, 3, ...   \n",
       "76   [5, 188, 1, 2, 7, 175, 3, 168, 313, 1902, 173,...   \n",
       "141  [1, 188, 670, 2, 168, 5335, 5, 313, 414, 700, ...   \n",
       "226  [5, 1, 168, 188, 670, 2, 175, 414, 214, 967, 2...   \n",
       "315  [2, 188, 5, 670, 26, 173, 6000, 1, 168, 407, 1...   \n",
       "\n",
       "                                              position  \\\n",
       "22   [1, 2.5, 2.5, 4.5, 4.5, 6.5, 6.5, 8, 9, 10, 11...   \n",
       "76   [1, 2, 3, 4, 5, 6, 8.5, 8.5, 8.5, 8.5, 11, 12....   \n",
       "141  [1, 2.5, 2.5, 4, 5, 6, 9, 9, 9, 9, 9, 12.5, 12...   \n",
       "226  [1, 2.5, 2.5, 4.5, 4.5, 6.5, 6.5, 8, 10, 10, 1...   \n",
       "315  [1, 2, 3.5, 3.5, 6, 6, 6, 8.5, 8.5, 10.5, 10.5...   \n",
       "\n",
       "                                                result  \\\n",
       "22   [011101110110111000110111001111111111001111110...   \n",
       "76   [001111101111111001011101111011100001110010111...   \n",
       "141  [110110111101111111011110011110111111100111111...   \n",
       "226  [101011110010010101111010111110110011011111111...   \n",
       "315  [011111000111101111110111111110111101001011111...   \n",
       "\n",
       "                                               players   id  \n",
       "22   [[1560, 2935, 3270, 4878, 18935, 32979, 36497]...   22  \n",
       "76   [[1603, 5935, 17050, 18036, 18332, 30990], [32...   76  \n",
       "141  [[2935, 3270, 18935, 20612, 29800, 32979], [32...  141  \n",
       "226  [[5935, 17050, 18036, 18332, 30990, 35065], [2...  226  \n",
       "315  [[27403, 25882, 30475, 34846, 13551, 707, 2180...  315  "
      ]
     },
     "execution_count": 9,
     "metadata": {},
     "output_type": "execute_result"
    }
   ],
   "source": [
    "mask_dict = {}\n",
    "for key, value in results_pkl.items():\n",
    "    if not value or 'mask' not in value[0] or value[0]['mask'] is None:\n",
    "        continue\n",
    "    mask_dict[key] = value \n",
    "\n",
    "game_dict = {}\n",
    "for game_id, game_stats in mask_dict.items():\n",
    "    full_data = {}\n",
    "    team_list, pos_list, res_list, players_list = [], [], [], []\n",
    "    for data in game_stats:\n",
    "        team_list.append(data['team']['id'])\n",
    "        pos_list.append(data['position'] if 'position' in data else None)\n",
    "        res_list.append(data['mask'])\n",
    "\n",
    "        data_players = []\n",
    "        for player in data['teamMembers']:\n",
    "            data_players.append(player['player']['id'])\n",
    "        players_list.append(data_players)\n",
    "\n",
    "    game_dict[game_id] = {'team_id': team_list, 'position': pos_list, \n",
    "                          'result': res_list,  'players': players_list}\n",
    "    \n",
    "df_games = pd.DataFrame(game_dict).transpose()\n",
    "df_games[\"id\"] = df_games.index\n",
    "df_games.head()"
   ]
  },
  {
   "cell_type": "code",
   "execution_count": 10,
   "metadata": {
    "id": "eoyXI05C3OJh"
   },
   "outputs": [],
   "source": [
    "games_train = tournaments_train.merge(df_games, on='id').explode([\"team_id\", \"position\", \"result\", \"players\"]).explode('players')\n",
    "games_test = tournaments_test.merge(df_games, on='id').explode([\"team_id\", \"position\", \"result\", \"players\"]).explode('players')"
   ]
  },
  {
   "cell_type": "code",
   "execution_count": 11,
   "metadata": {
    "id": "Ke5Omv_PApBk"
   },
   "outputs": [],
   "source": [
    "def preprocessing(data):\n",
    "    def unpack_result(gameid_col, result_col):\n",
    "        result_vector = [int(d) if d.isnumeric() else 0 for d in result_col]\n",
    "        answer_vector = [f'{gameid_col}_{i}' for i in range(len(result_col))]\n",
    "        return answer_vector, result_vector\n",
    "\n",
    "\n",
    "    data.dropna(inplace=True)\n",
    "    data[[f'{\"id\"}_num', \"is_answered\"]] = data.apply(lambda row: unpack_result(row[\"id\"], row[\"result\"]), axis=1, result_type='expand')\n",
    "    data.drop(columns=['result'], inplace=True)\n",
    "    data = data.explode([f'{\"id\"}_num', \"is_answered\"])\n",
    "    data = data.astype(dtype={\"team_id\": np.int32, \"players\": np.int32, \"id\": np.int32, \"is_answered\": np.int32, \"position\": np.float32})\n",
    "\n",
    "    return data"
   ]
  },
  {
   "cell_type": "code",
   "execution_count": 12,
   "metadata": {
    "id": "8C83bOuo9wqb"
   },
   "outputs": [],
   "source": [
    "games_train = tournaments_train.merge(df_games, on='id').explode([\"team_id\", \"position\", \"result\", \"players\"]).explode('players')\n",
    "data_train = preprocessing(games_train)\n",
    "\n",
    "\n",
    "games_test = tournaments_test.merge(df_games, on='id').explode([\"team_id\", \"position\", \"result\", \"players\"]).explode('players')\n",
    "data_test = preprocessing(games_test)"
   ]
  },
  {
   "cell_type": "code",
   "execution_count": 13,
   "metadata": {
    "colab": {
     "base_uri": "https://localhost:8080/",
     "height": 423
    },
    "id": "v_W9pGlLpmw6",
    "outputId": "d420ea48-6bbf-4753-e3e6-3e82c0595086"
   },
   "outputs": [
    {
     "data": {
      "text/html": [
       "<div>\n",
       "<style scoped>\n",
       "    .dataframe tbody tr th:only-of-type {\n",
       "        vertical-align: middle;\n",
       "    }\n",
       "\n",
       "    .dataframe tbody tr th {\n",
       "        vertical-align: top;\n",
       "    }\n",
       "\n",
       "    .dataframe thead th {\n",
       "        text-align: right;\n",
       "    }\n",
       "</style>\n",
       "<table border=\"1\" class=\"dataframe\">\n",
       "  <thead>\n",
       "    <tr style=\"text-align: right;\">\n",
       "      <th></th>\n",
       "      <th>id</th>\n",
       "      <th>team_id</th>\n",
       "      <th>position</th>\n",
       "      <th>players</th>\n",
       "      <th>id_num</th>\n",
       "      <th>is_answered</th>\n",
       "    </tr>\n",
       "  </thead>\n",
       "  <tbody>\n",
       "    <tr>\n",
       "      <th>0</th>\n",
       "      <td>4772</td>\n",
       "      <td>45556</td>\n",
       "      <td>1.0</td>\n",
       "      <td>6212</td>\n",
       "      <td>4772_0</td>\n",
       "      <td>1</td>\n",
       "    </tr>\n",
       "    <tr>\n",
       "      <th>0</th>\n",
       "      <td>4772</td>\n",
       "      <td>45556</td>\n",
       "      <td>1.0</td>\n",
       "      <td>6212</td>\n",
       "      <td>4772_1</td>\n",
       "      <td>1</td>\n",
       "    </tr>\n",
       "    <tr>\n",
       "      <th>0</th>\n",
       "      <td>4772</td>\n",
       "      <td>45556</td>\n",
       "      <td>1.0</td>\n",
       "      <td>6212</td>\n",
       "      <td>4772_2</td>\n",
       "      <td>1</td>\n",
       "    </tr>\n",
       "    <tr>\n",
       "      <th>0</th>\n",
       "      <td>4772</td>\n",
       "      <td>45556</td>\n",
       "      <td>1.0</td>\n",
       "      <td>6212</td>\n",
       "      <td>4772_3</td>\n",
       "      <td>1</td>\n",
       "    </tr>\n",
       "    <tr>\n",
       "      <th>0</th>\n",
       "      <td>4772</td>\n",
       "      <td>45556</td>\n",
       "      <td>1.0</td>\n",
       "      <td>6212</td>\n",
       "      <td>4772_4</td>\n",
       "      <td>1</td>\n",
       "    </tr>\n",
       "    <tr>\n",
       "      <th>...</th>\n",
       "      <td>...</td>\n",
       "      <td>...</td>\n",
       "      <td>...</td>\n",
       "      <td>...</td>\n",
       "      <td>...</td>\n",
       "      <td>...</td>\n",
       "    </tr>\n",
       "    <tr>\n",
       "      <th>673</th>\n",
       "      <td>6255</td>\n",
       "      <td>76130</td>\n",
       "      <td>2019.0</td>\n",
       "      <td>217156</td>\n",
       "      <td>6255_31</td>\n",
       "      <td>0</td>\n",
       "    </tr>\n",
       "    <tr>\n",
       "      <th>673</th>\n",
       "      <td>6255</td>\n",
       "      <td>76130</td>\n",
       "      <td>2019.0</td>\n",
       "      <td>217156</td>\n",
       "      <td>6255_32</td>\n",
       "      <td>0</td>\n",
       "    </tr>\n",
       "    <tr>\n",
       "      <th>673</th>\n",
       "      <td>6255</td>\n",
       "      <td>76130</td>\n",
       "      <td>2019.0</td>\n",
       "      <td>217156</td>\n",
       "      <td>6255_33</td>\n",
       "      <td>0</td>\n",
       "    </tr>\n",
       "    <tr>\n",
       "      <th>673</th>\n",
       "      <td>6255</td>\n",
       "      <td>76130</td>\n",
       "      <td>2019.0</td>\n",
       "      <td>217156</td>\n",
       "      <td>6255_34</td>\n",
       "      <td>0</td>\n",
       "    </tr>\n",
       "    <tr>\n",
       "      <th>673</th>\n",
       "      <td>6255</td>\n",
       "      <td>76130</td>\n",
       "      <td>2019.0</td>\n",
       "      <td>217156</td>\n",
       "      <td>6255_35</td>\n",
       "      <td>0</td>\n",
       "    </tr>\n",
       "  </tbody>\n",
       "</table>\n",
       "<p>21012307 rows × 6 columns</p>\n",
       "</div>"
      ],
      "text/plain": [
       "       id  team_id  position  players   id_num  is_answered\n",
       "0    4772    45556       1.0     6212   4772_0            1\n",
       "0    4772    45556       1.0     6212   4772_1            1\n",
       "0    4772    45556       1.0     6212   4772_2            1\n",
       "0    4772    45556       1.0     6212   4772_3            1\n",
       "0    4772    45556       1.0     6212   4772_4            1\n",
       "..    ...      ...       ...      ...      ...          ...\n",
       "673  6255    76130    2019.0   217156  6255_31            0\n",
       "673  6255    76130    2019.0   217156  6255_32            0\n",
       "673  6255    76130    2019.0   217156  6255_33            0\n",
       "673  6255    76130    2019.0   217156  6255_34            0\n",
       "673  6255    76130    2019.0   217156  6255_35            0\n",
       "\n",
       "[21012307 rows x 6 columns]"
      ]
     },
     "execution_count": 13,
     "metadata": {},
     "output_type": "execute_result"
    }
   ],
   "source": [
    "data_train"
   ]
  },
  {
   "cell_type": "code",
   "execution_count": 15,
   "metadata": {
    "colab": {
     "base_uri": "https://localhost:8080/",
     "height": 206
    },
    "id": "UozOcYJmMQUq",
    "outputId": "b46d5528-230e-4c5a-f0c2-d97e91a1b31e"
   },
   "outputs": [
    {
     "data": {
      "text/html": [
       "<div>\n",
       "<style scoped>\n",
       "    .dataframe tbody tr th:only-of-type {\n",
       "        vertical-align: middle;\n",
       "    }\n",
       "\n",
       "    .dataframe tbody tr th {\n",
       "        vertical-align: top;\n",
       "    }\n",
       "\n",
       "    .dataframe thead th {\n",
       "        text-align: right;\n",
       "    }\n",
       "</style>\n",
       "<table border=\"1\" class=\"dataframe\">\n",
       "  <thead>\n",
       "    <tr style=\"text-align: right;\">\n",
       "      <th></th>\n",
       "      <th>id</th>\n",
       "      <th>team_id</th>\n",
       "      <th>position</th>\n",
       "      <th>players</th>\n",
       "      <th>id_num</th>\n",
       "      <th>is_answered</th>\n",
       "    </tr>\n",
       "  </thead>\n",
       "  <tbody>\n",
       "    <tr>\n",
       "      <th>0</th>\n",
       "      <td>4772</td>\n",
       "      <td>45556</td>\n",
       "      <td>1.0</td>\n",
       "      <td>6212</td>\n",
       "      <td>4772_0</td>\n",
       "      <td>1</td>\n",
       "    </tr>\n",
       "    <tr>\n",
       "      <th>0</th>\n",
       "      <td>4772</td>\n",
       "      <td>45556</td>\n",
       "      <td>1.0</td>\n",
       "      <td>6212</td>\n",
       "      <td>4772_1</td>\n",
       "      <td>1</td>\n",
       "    </tr>\n",
       "    <tr>\n",
       "      <th>0</th>\n",
       "      <td>4772</td>\n",
       "      <td>45556</td>\n",
       "      <td>1.0</td>\n",
       "      <td>6212</td>\n",
       "      <td>4772_2</td>\n",
       "      <td>1</td>\n",
       "    </tr>\n",
       "    <tr>\n",
       "      <th>0</th>\n",
       "      <td>4772</td>\n",
       "      <td>45556</td>\n",
       "      <td>1.0</td>\n",
       "      <td>6212</td>\n",
       "      <td>4772_3</td>\n",
       "      <td>1</td>\n",
       "    </tr>\n",
       "    <tr>\n",
       "      <th>0</th>\n",
       "      <td>4772</td>\n",
       "      <td>45556</td>\n",
       "      <td>1.0</td>\n",
       "      <td>6212</td>\n",
       "      <td>4772_4</td>\n",
       "      <td>1</td>\n",
       "    </tr>\n",
       "  </tbody>\n",
       "</table>\n",
       "</div>"
      ],
      "text/plain": [
       "     id  team_id  position  players  id_num  is_answered\n",
       "0  4772    45556       1.0     6212  4772_0            1\n",
       "0  4772    45556       1.0     6212  4772_1            1\n",
       "0  4772    45556       1.0     6212  4772_2            1\n",
       "0  4772    45556       1.0     6212  4772_3            1\n",
       "0  4772    45556       1.0     6212  4772_4            1"
      ]
     },
     "execution_count": 15,
     "metadata": {},
     "output_type": "execute_result"
    }
   ],
   "source": [
    "data_train.head()"
   ]
  },
  {
   "cell_type": "code",
   "execution_count": 16,
   "metadata": {
    "id": "TAEi6Ic_Ine7"
   },
   "outputs": [],
   "source": [
    "y_train = data_train[\"is_answered\"].copy()\n",
    "enc = OneHotEncoder()\n",
    "X_train = enc.fit_transform(data_train[[\"players\", \"id_num\"]])"
   ]
  },
  {
   "cell_type": "code",
   "execution_count": 36,
   "metadata": {},
   "outputs": [
    {
     "data": {
      "text/plain": [
       "array(['players_15', 'players_16', 'players_23', ..., 'id_num_6255_97',\n",
       "       'id_num_6255_98', 'id_num_6255_99'], dtype=object)"
      ]
     },
     "execution_count": 36,
     "metadata": {},
     "output_type": "execute_result"
    }
   ],
   "source": [
    "enc.get_feature_names_out()"
   ]
  },
  {
   "cell_type": "code",
   "execution_count": 20,
   "metadata": {},
   "outputs": [],
   "source": [
    "#Basic log reg\n",
    "class LogReg(nn.Module):\n",
    "    def __init__(self, in_features, out_features=1):\n",
    "        super().__init__()\n",
    "        self.linear = nn.Linear(in_features, out_features)\n",
    "    \n",
    "    def forward(self, x):\n",
    "        return F.sigmoid(self.linear(x))"
   ]
  },
  {
   "cell_type": "code",
   "execution_count": 21,
   "metadata": {},
   "outputs": [],
   "source": [
    "X_train = X_train.tocoo()\n",
    "x = torch.sparse.FloatTensor(\n",
    "    torch.LongTensor(np.vstack((X_train.row, X_train.col))),\n",
    "    torch.FloatTensor(X_train.data))\n",
    "\n",
    "y = torch.FloatTensor(data_train[\"is_answered\"].values).view(-1, 1)\n"
   ]
  },
  {
   "cell_type": "code",
   "execution_count": 22,
   "metadata": {},
   "outputs": [],
   "source": [
    "def train(model, criterion, optimizer, num_epochs=100):\n",
    "    model.train()\n",
    "    loss_val = None\n",
    "    pbar = tqdm(range(num_epochs))\n",
    "    loses = []\n",
    "    for i in pbar:\n",
    "        optimizer.zero_grad()\n",
    "        out = model(x)\n",
    "\n",
    "        loss = criterion(out, y)\n",
    "        loss.backward()\n",
    "\n",
    "        optimizer.step()\n",
    "        loss_val = loss.detach().item()\n",
    "        losses.append(loss_val)\n",
    "        pbar.set_postfix({'loss_val': loss_val})\n",
    "\n",
    "    return losses"
   ]
  },
  {
   "cell_type": "code",
   "execution_count": 23,
   "metadata": {},
   "outputs": [],
   "source": [
    "model = LogReg(x.shape[1])\n",
    "criterion = nn.BCELoss()\n",
    "optimizer = torch.optim.Adam(model.parameters(), lr=0.1)\n",
    "losses = []"
   ]
  },
  {
   "cell_type": "code",
   "execution_count": 27,
   "metadata": {
    "id": "lHHtiCH4JCqL"
   },
   "outputs": [
    {
     "name": "stderr",
     "output_type": "stream",
     "text": [
      "100%|█████████████████████████| 100/100 [03:03<00:00,  1.84s/it, loss_val=0.481]\n"
     ]
    },
    {
     "data": {
      "image/png": "[encoded data removed]",
      "text/plain": [
       "<Figure size 432x288 with 1 Axes>"
      ]
     },
     "metadata": {
      "needs_background": "light"
     },
     "output_type": "display_data"
    }
   ],
   "source": [
    "\n",
    "fig, ax = plt.subplots()\n",
    "loss_list = train(model, criterion, optimizer, num_epochs=100)\n",
    "\n",
    "ax.plot(loss_list)\n",
    "ax.set_xlabel('step')\n",
    "ax.set_ylabel('loss val')\n",
    "ax.set_title('Model loss')\n",
    "\n",
    "# impact\n"
   ]
  },
  {
   "cell_type": "markdown",
   "metadata": {},
   "source": [
    "### Бейзлайн, который требуется побить"
   ]
  },
  {
   "cell_type": "code",
   "execution_count": 35,
   "metadata": {
    "id": "QEXc5RQTMcBR"
   },
   "outputs": [
    {
     "name": "stdout",
     "output_type": "stream",
     "text": [
      "Player - Павел Щербина, pos - 1, impact - 4.076584339141846\n",
      "Player - Максим Руссо, pos - 2, impact - 3.3905844688415527\n",
      "Player - Александра Брутер, pos - 3, impact - 3.266859292984009\n",
      "Player - Иван Семушин, pos - 4, impact - 3.2387802600860596\n",
      "Player - Дмитрий Кудинов, pos - 5, impact - 3.150224208831787\n",
      "Player - Максим Пилипенко, pos - 6, impact - 3.083094358444214\n",
      "Player - Артём Сорожкин, pos - 7, impact - 3.0772697925567627\n",
      "Player - Сергей Спешков, pos - 8, impact - 3.072958469390869\n",
      "Player - Михаил Савченков, pos - 9, impact - 3.071894645690918\n",
      "Player - Валентина Подюкова, pos - 10, impact - 2.9726409912109375\n",
      "Player - Станислав Мереминский, pos - 11, impact - 2.950007438659668\n",
      "Player - Михаил Левандовский, pos - 12, impact - 2.9479684829711914\n",
      "Player - Ирина Прокофьева, pos - 13, impact - 2.9065301418304443\n",
      "Player - Сергей Николенко, pos - 14, impact - 2.878936529159546\n",
      "Player - Антон Саксонов, pos - 15, impact - 2.8722150325775146\n",
      "Player - Илья Новиков, pos - 16, impact - 2.8581833839416504\n",
      "Player - Александр Либер, pos - 17, impact - 2.8487844467163086\n",
      "Player - Михаил Царёв, pos - 18, impact - 2.8455963134765625\n",
      "Player - Александр Мосягин, pos - 19, impact - 2.821646213531494\n",
      "Player - Вадим Ишин, pos - 20, impact - 2.820037364959717\n",
      "Player - Анна Карпелевич, pos - 21, impact - 2.8115153312683105\n",
      "Player - Наталья Горелова, pos - 22, impact - 2.809114694595337\n",
      "Player - Алексей Гилёв, pos - 23, impact - 2.8037750720977783\n",
      "Player - Дмитрий Карякин, pos - 24, impact - 2.8009331226348877\n",
      "Player - Евгений Спектор, pos - 25, impact - 2.7986555099487305\n",
      "Player - Мария Кленницкая, pos - 26, impact - 2.79809832572937\n",
      "Player - Елена Александрова, pos - 27, impact - 2.785632848739624\n",
      "Player - Сусанна Бровер, pos - 28, impact - 2.776319742202759\n",
      "Player - Александр Марков, pos - 29, impact - 2.7664663791656494\n",
      "Player - Юлия Архангельская, pos - 30, impact - 2.7618746757507324\n"
     ]
    }
   ],
   "source": [
    "impact = {}\n",
    "model.load_state_dict(torch.load(\"log_reg.pth\"))\n",
    "\n",
    "wt = model.linear.weight.data[0].numpy()\n",
    "features = enc.get_feature_names_out()\n",
    "\n",
    "for idx, player_id in enumerate(features):\n",
    "    if player_id.startswith('players'):\n",
    "        player_id = int(player_id[8:])\n",
    "        impact[player_id] = wt[idx]\n",
    "        \n",
    "data = [(player_id, imp) for player_id, imp in impact.items()]\n",
    "data = sorted(data,  reverse=True, key=lambda x: x[1])[:20]\n",
    "\n",
    "top = defaultdict(list)\n",
    "\n",
    "for pos, (player_id, imp) in enumerate(top, 1):\n",
    "    name = players.loc[player_id][\"name\"]\n",
    "    surname = players.loc[player_id][\"surname\"]\n",
    "    print(f'Player - {name} {surname}, pos - {pos}, impact - {imp}')"
   ]
  },
  {
   "cell_type": "markdown",
   "metadata": {},
   "source": [
    "# Рейтинг\n",
    "Идея в том, что мы рассматриваем вероятность ответа каждого участника независимо, а после подсчитать общий вклад\n",
    "$$ Team = \\prod_{i=1}^N (1 - sigmoid(Qs + Sk  + b))$$\n",
    "Qs - Относительная сложнотсь вопроса\n",
    "\n",
    "Sk - Индивидуальные умения грока\n",
    "\n",
    "b - bias вычислений"
   ]
  },
  {
   "cell_type": "code",
   "execution_count": 58,
   "metadata": {},
   "outputs": [],
   "source": [
    "class TeamRanking:\n",
    "    def __init__(self, model, ohe):\n",
    "        self.impact = {}\n",
    "        self.diff_dict = defaultdict(list)\n",
    "\n",
    "        wt = model.linear.weight.data[0].numpy()\n",
    "        features = enc.get_feature_names_out()\n",
    "\n",
    "        for idx, player_id in enumerate(features):\n",
    "            player_impact = wt[idx]\n",
    "            if player_id.startswith('players'):\n",
    "                player_id = int(player_id[8:])\n",
    "                self.impact[player_id] = player_impact\n",
    "            else:\n",
    "                col_id = player_id.split(\"_\")[2]\n",
    "                self.diff_dict[col_id].append(player_impact)\n",
    "        \n",
    "        self.tourn_mean = {t_id: np.mean(q) for t_id, q in self.diff_dict.items()}\n",
    "        self.empty_vals = sum(self.tourn_mean.values()) / len(self.tourn_mean)\n",
    "        self.empty_pl = sum(self.impact.values()) / len(self.impact)\n",
    "        self.bias = model.linear.bias.data[0].numpy()\n",
    "    \n",
    "\n",
    "    def predict(self, data):\n",
    "        \n",
    "        sigmoid = lambda x: 1 / (1 + np.exp(-x))\n",
    "        \n",
    "        data = data.copy()\n",
    "        gr_truth = data.groupby([\"id\", \"players\"])[\"position\"].first()        \n",
    "\n",
    "            \n",
    "        data[\"tourn\"] = data[\"id\"].map(self.tourn_mean).fillna(self.empty_vals)\n",
    "        data[\"impact\"] = data[\"players\"].map(self.impact).fillna(self.empty_pl)\n",
    "        data[\"probs\"] = data.apply(lambda row: sigmoid(row[\"tourn\"] + row[\"impact\"] + self.bias), axis=1)\n",
    "        \n",
    "        ranj = data.groupby([\"id\", \"players\"])[\"probs\"].apply(lambda x: np.prod(1 - x))\n",
    "        \n",
    "        result = pd.concat([ranj, gr_truth], axis=1)\n",
    "        result.sort_values([\"id\", \"probs\"], ascending=[True, True], inplace=True)\n",
    "        \n",
    "        return result\n",
    "\n",
    "    def eval(self, result):\n",
    "        def get_spearman(x, y):\n",
    "            try:\n",
    "                return spearmanr(x, y).correlation\n",
    "            except:\n",
    "                return 1\n",
    "            \n",
    "        kendall = result.groupby(\"id\").apply(lambda x: kendalltau(x[\"position\"], x[\"probs\"]).correlation).mean()\n",
    "        spearman = result.groupby(\"id\").apply(lambda x: get_spearman(x[\"position\"], x[\"probs\"])).mean()\n",
    "        \n",
    "        return spearman, kendall"
   ]
  },
  {
   "cell_type": "code",
   "execution_count": 59,
   "metadata": {},
   "outputs": [
    {
     "name": "stderr",
     "output_type": "stream",
     "text": [
      "/home/v_shaposhnikov/env/lib/python3.9/site-packages/scipy/stats/mstats_basic.py:652: RuntimeWarning: invalid value encountered in double_scalars\n",
      "  tau = (C-D) / denom\n",
      "/home/v_shaposhnikov/env/lib/python3.9/site-packages/scipy/stats/mstats_basic.py:687: RuntimeWarning: invalid value encountered in double_scalars\n",
      "  z = (C-D)/np.sqrt(var_s)\n"
     ]
    },
    {
     "name": "stdout",
     "output_type": "stream",
     "text": [
      "Spearman rho test: 0.7273395859526212\n",
      "Kendall rho test: 0.5695531946556612\n"
     ]
    }
   ],
   "source": [
    "ranking_model = TeamRanking(model, enc)\n",
    "res = ranking_model.predict(data_test)\n",
    "spearman, kendall = ranking_model.eval(res)\n",
    "print(f'Spearman rho test: {spearman}')\n",
    "print(f'Kendall rho test: {kendall}')"
   ]
  },
  {
   "cell_type": "code",
   "execution_count": 71,
   "metadata": {},
   "outputs": [
    {
     "name": "stdout",
     "output_type": "stream",
     "text": [
      "1\n",
      "2\n",
      "3\n",
      "4\n",
      "Prep stage finished\n"
     ]
    },
    {
     "name": "stderr",
     "output_type": "stream",
     "text": [
      "100%|██████████████████████████| 100/100 [02:59<00:00,  1.79s/it, loss_val=0.48]\n"
     ]
    },
    {
     "name": "stdout",
     "output_type": "stream",
     "text": [
      "1\n",
      "2\n",
      "3\n",
      "4\n",
      "Prep stage finished\n"
     ]
    },
    {
     "name": "stderr",
     "output_type": "stream",
     "text": [
      "100%|██████████████████████████| 100/100 [02:58<00:00,  1.79s/it, loss_val=0.48]\n"
     ]
    },
    {
     "name": "stdout",
     "output_type": "stream",
     "text": [
      "1\n",
      "2\n",
      "3\n",
      "4\n",
      "Prep stage finished\n"
     ]
    },
    {
     "name": "stderr",
     "output_type": "stream",
     "text": [
      "100%|██████████████████████████| 100/100 [03:01<00:00,  1.82s/it, loss_val=0.48]\n"
     ]
    },
    {
     "name": "stdout",
     "output_type": "stream",
     "text": [
      "1\n",
      "2\n",
      "3\n",
      "4\n",
      "Prep stage finished\n"
     ]
    },
    {
     "name": "stderr",
     "output_type": "stream",
     "text": [
      "100%|██████████████████████████| 100/100 [02:59<00:00,  1.80s/it, loss_val=0.48]\n"
     ]
    },
    {
     "name": "stdout",
     "output_type": "stream",
     "text": [
      "1\n",
      "2\n",
      "3\n",
      "4\n",
      "Prep stage finished\n"
     ]
    },
    {
     "name": "stderr",
     "output_type": "stream",
     "text": [
      "100%|██████████████████████████| 100/100 [02:59<00:00,  1.80s/it, loss_val=0.48]\n"
     ]
    },
    {
     "data": {
      "image/png": "[encoded data removed]",
      "text/plain": [
       "<Figure size 1080x576 with 2 Axes>"
      ]
     },
     "metadata": {
      "needs_background": "light"
     },
     "output_type": "display_data"
    }
   ],
   "source": [
    "def train(model, criterion, optimizer, num_epochs=100):\n",
    "    loss_val = None\n",
    "    pbar = tqdm(range(num_epochs))\n",
    "    loses = []\n",
    "    for i in pbar:\n",
    "        optimizer.zero_grad()\n",
    "        out = model(x)\n",
    "\n",
    "        loss = criterion(out, y)\n",
    "        loss.backward()\n",
    "\n",
    "        optimizer.step()\n",
    "        loss_val = loss.detach().item()\n",
    "        losses.append(loss_val)\n",
    "        pbar.set_postfix({'loss_val': loss_val})\n",
    "\n",
    "    return losses\n",
    "        \n",
    "    \n",
    "def data_preporation(data, new_predictions):\n",
    "    print(1)\n",
    "    data[\"y_pred\"] = new_predictions\n",
    "    print(2)\n",
    "    data.loc[data[\"is_answered\"] == 0, \"y_pred\"] = 0\n",
    "    print(3)\n",
    "    den = data.loc[data[\"is_answered\"] == 1].groupby([\"players\", \"id_num\"])[\"y_pred\"].transform(lambda x: 1 - np.prod(1 - x.values))\n",
    "    print(4)\n",
    "    data.loc[data[\"is_answered\"] == 1, \"y_pred\"] = data.loc[data[\"is_answered\"] == 1, \"y_pred\"] / den\n",
    "    return data\n",
    "\n",
    "\n",
    "data = data_train.copy()\n",
    "GL_STEPS = 5\n",
    "model_losses, spearmans, kendalls = [], [], []\n",
    "\n",
    "model.eval()\n",
    "predictions = model(x).detach().numpy().ravel()\n",
    "# fig, ax = plt.subplots(1, 2, figsize=(15, 8))\n",
    "\n",
    "for i in range(GL_STEPS):\n",
    "    model.train()\n",
    "    \n",
    "    data = data_preporation(data, predictions)\n",
    "    print('Prep stage finished')\n",
    "    y = torch.FloatTensor(data['y_pred'].values).view(-1, 1)\n",
    "    \n",
    "    losses = train(model, criterion, optimizer)\n",
    "    mean_loss = sum(losses) / len(losses)\n",
    "    model_losses.append(mean_loss)\n",
    "        \n",
    "    model.eval()\n",
    "    predictions = model(x).detach().numpy().ravel()\n",
    "    \n",
    "    \n",
    "    ranking_model = TeamRanking(model, enc)\n",
    "    res = ranking_model.predict(data_test)\n",
    "    spearman, kendall = ranking_model.eval(res)\n",
    "\n",
    "    spearmans.append(spearman)\n",
    "    kendalls.append(kendall)\n"
   ]
  },
  {
   "cell_type": "code",
   "execution_count": 84,
   "metadata": {},
   "outputs": [
    {
     "data": {
      "image/png": "[encoded data removed]",
      "text/plain": [
       "<Figure size 1080x576 with 3 Axes>"
      ]
     },
     "metadata": {
      "needs_background": "light"
     },
     "output_type": "display_data"
    }
   ],
   "source": [
    "fig, ax = plt.subplots(1, 3, figsize=(15, 8))\n",
    "data = [spearmans, kendalls, model_losses]\n",
    "description = ['Spearmans', 'Kendalls', 'Loss']\n",
    "\n",
    "for i in range(3):\n",
    "    ax[i].plot(data[i])\n",
    "    ax[i].set_title(description[i])\n",
    "    ax[i].set_xlabel('Step')\n",
    "\n"
   ]
  },
  {
   "cell_type": "markdown",
   "metadata": {},
   "source": [
    "Как видим значения улучшаются, также незначительно уменьшается loss модели"
   ]
  },
  {
   "cell_type": "code",
   "execution_count": 77,
   "metadata": {},
   "outputs": [],
   "source": [
    "torch.save(model.state_dict(), 'final_em.pth')"
   ]
  },
  {
   "cell_type": "code",
   "execution_count": 90,
   "metadata": {},
   "outputs": [],
   "source": [
    "w = model.linear.weight.data[0].numpy()\n",
    "scores = defaultdict(list)\n",
    "\n",
    "for i, feat_name in enumerate(enc.get_feature_names_out()):\n",
    "    if feat_name.startswith('id_num'):\n",
    "        val = int(feat_name.split('_')[2])\n",
    "        scores[val].append(w[i])\n",
    "                  \n",
    "scores = {t_id: np.mean(q) for t_id, q in scores.items()}\n",
    "\n",
    "\n"
   ]
  },
  {
   "cell_type": "code",
   "execution_count": 98,
   "metadata": {},
   "outputs": [],
   "source": [
    "result = tournaments[tournaments[\"dateStart\"].dt.year == 2019].reset_index(drop=True)[[\"id\", \"name\"]]\n",
    "result['rate'] = result[\"id\"].map(scores)\n",
    "result = result.sort_values('rate')\n",
    "result.dropna(inplace=True)"
   ]
  },
  {
   "cell_type": "code",
   "execution_count": 99,
   "metadata": {},
   "outputs": [
    {
     "data": {
      "text/html": [
       "<div>\n",
       "<style scoped>\n",
       "    .dataframe tbody tr th:only-of-type {\n",
       "        vertical-align: middle;\n",
       "    }\n",
       "\n",
       "    .dataframe tbody tr th {\n",
       "        vertical-align: top;\n",
       "    }\n",
       "\n",
       "    .dataframe thead th {\n",
       "        text-align: right;\n",
       "    }\n",
       "</style>\n",
       "<table border=\"1\" class=\"dataframe\">\n",
       "  <thead>\n",
       "    <tr style=\"text-align: right;\">\n",
       "      <th></th>\n",
       "      <th>id</th>\n",
       "      <th>name</th>\n",
       "      <th>rate</th>\n",
       "    </tr>\n",
       "  </thead>\n",
       "  <tbody>\n",
       "    <tr>\n",
       "      <th>674</th>\n",
       "      <td>6149</td>\n",
       "      <td>Чемпионат Санкт-Петербурга. Первая лига</td>\n",
       "      <td>-10.463975</td>\n",
       "    </tr>\n",
       "    <tr>\n",
       "      <th>394</th>\n",
       "      <td>5717</td>\n",
       "      <td>Чемпионат Таджикистана</td>\n",
       "      <td>-3.807155</td>\n",
       "    </tr>\n",
       "    <tr>\n",
       "      <th>551</th>\n",
       "      <td>5930</td>\n",
       "      <td>Зеркало мемориала памяти Михаила Басса</td>\n",
       "      <td>-3.450507</td>\n",
       "    </tr>\n",
       "    <tr>\n",
       "      <th>375</th>\n",
       "      <td>5684</td>\n",
       "      <td>Синхрон высшей лиги Москвы</td>\n",
       "      <td>-3.172917</td>\n",
       "    </tr>\n",
       "    <tr>\n",
       "      <th>650</th>\n",
       "      <td>6101</td>\n",
       "      <td>Воображаемый музей</td>\n",
       "      <td>-3.053741</td>\n",
       "    </tr>\n",
       "    <tr>\n",
       "      <th>144</th>\n",
       "      <td>5427</td>\n",
       "      <td>День D</td>\n",
       "      <td>-2.967746</td>\n",
       "    </tr>\n",
       "    <tr>\n",
       "      <th>549</th>\n",
       "      <td>5928</td>\n",
       "      <td>Угрюмый Ёрш</td>\n",
       "      <td>-2.957429</td>\n",
       "    </tr>\n",
       "    <tr>\n",
       "      <th>550</th>\n",
       "      <td>5929</td>\n",
       "      <td>Мемориал памяти Михаила Басса</td>\n",
       "      <td>-2.827839</td>\n",
       "    </tr>\n",
       "    <tr>\n",
       "      <th>151</th>\n",
       "      <td>5435</td>\n",
       "      <td>Шестая октава: СИ-Мажор. Лига Наций: Прибалтика</td>\n",
       "      <td>-2.754320</td>\n",
       "    </tr>\n",
       "    <tr>\n",
       "      <th>239</th>\n",
       "      <td>5532</td>\n",
       "      <td>Седьмая октава: Кубок Равноденствия. Лига Наци...</td>\n",
       "      <td>-2.718923</td>\n",
       "    </tr>\n",
       "  </tbody>\n",
       "</table>\n",
       "</div>"
      ],
      "text/plain": [
       "       id                                               name       rate\n",
       "674  6149            Чемпионат Санкт-Петербурга. Первая лига -10.463975\n",
       "394  5717                             Чемпионат Таджикистана  -3.807155\n",
       "551  5930             Зеркало мемориала памяти Михаила Басса  -3.450507\n",
       "375  5684                         Синхрон высшей лиги Москвы  -3.172917\n",
       "650  6101                                 Воображаемый музей  -3.053741\n",
       "144  5427                                             День D  -2.967746\n",
       "549  5928                                        Угрюмый Ёрш  -2.957429\n",
       "550  5929                      Мемориал памяти Михаила Басса  -2.827839\n",
       "151  5435    Шестая октава: СИ-Мажор. Лига Наций: Прибалтика  -2.754320\n",
       "239  5532  Седьмая октава: Кубок Равноденствия. Лига Наци...  -2.718923"
      ]
     },
     "execution_count": 99,
     "metadata": {},
     "output_type": "execute_result"
    }
   ],
   "source": [
    "result.head(10)"
   ]
  },
  {
   "cell_type": "code",
   "execution_count": 100,
   "metadata": {},
   "outputs": [
    {
     "data": {
      "text/html": [
       "<div>\n",
       "<style scoped>\n",
       "    .dataframe tbody tr th:only-of-type {\n",
       "        vertical-align: middle;\n",
       "    }\n",
       "\n",
       "    .dataframe tbody tr th {\n",
       "        vertical-align: top;\n",
       "    }\n",
       "\n",
       "    .dataframe thead th {\n",
       "        text-align: right;\n",
       "    }\n",
       "</style>\n",
       "<table border=\"1\" class=\"dataframe\">\n",
       "  <thead>\n",
       "    <tr style=\"text-align: right;\">\n",
       "      <th></th>\n",
       "      <th>id</th>\n",
       "      <th>name</th>\n",
       "      <th>rate</th>\n",
       "    </tr>\n",
       "  </thead>\n",
       "  <tbody>\n",
       "    <tr>\n",
       "      <th>386</th>\n",
       "      <td>5698</td>\n",
       "      <td>(а)Синхрон-lite. Лига старта. Эпизод VII</td>\n",
       "      <td>2.189571</td>\n",
       "    </tr>\n",
       "    <tr>\n",
       "      <th>572</th>\n",
       "      <td>5954</td>\n",
       "      <td>Школьная лига. II тур.</td>\n",
       "      <td>2.213005</td>\n",
       "    </tr>\n",
       "    <tr>\n",
       "      <th>172</th>\n",
       "      <td>5457</td>\n",
       "      <td>Студенческий чемпионат Калининградской области</td>\n",
       "      <td>2.282930</td>\n",
       "    </tr>\n",
       "    <tr>\n",
       "      <th>10</th>\n",
       "      <td>5012</td>\n",
       "      <td>Школьный Синхрон-lite. Выпуск 2.5</td>\n",
       "      <td>2.369007</td>\n",
       "    </tr>\n",
       "    <tr>\n",
       "      <th>573</th>\n",
       "      <td>5955</td>\n",
       "      <td>Школьная лига. III тур.</td>\n",
       "      <td>2.373492</td>\n",
       "    </tr>\n",
       "    <tr>\n",
       "      <th>684</th>\n",
       "      <td>6254</td>\n",
       "      <td>Школьная лига</td>\n",
       "      <td>2.407224</td>\n",
       "    </tr>\n",
       "    <tr>\n",
       "      <th>555</th>\n",
       "      <td>5936</td>\n",
       "      <td>Школьная лига. I тур.</td>\n",
       "      <td>2.457438</td>\n",
       "    </tr>\n",
       "    <tr>\n",
       "      <th>11</th>\n",
       "      <td>5013</td>\n",
       "      <td>(а)Синхрон-lite. Лига старта. Эпизод V</td>\n",
       "      <td>2.464977</td>\n",
       "    </tr>\n",
       "    <tr>\n",
       "      <th>154</th>\n",
       "      <td>5438</td>\n",
       "      <td>Синхрон Лиги Разума</td>\n",
       "      <td>3.086135</td>\n",
       "    </tr>\n",
       "    <tr>\n",
       "      <th>577</th>\n",
       "      <td>5963</td>\n",
       "      <td>Асинхрон по South Park</td>\n",
       "      <td>3.234015</td>\n",
       "    </tr>\n",
       "  </tbody>\n",
       "</table>\n",
       "</div>"
      ],
      "text/plain": [
       "       id                                            name      rate\n",
       "386  5698        (а)Синхрон-lite. Лига старта. Эпизод VII  2.189571\n",
       "572  5954                          Школьная лига. II тур.  2.213005\n",
       "172  5457  Студенческий чемпионат Калининградской области  2.282930\n",
       "10   5012               Школьный Синхрон-lite. Выпуск 2.5  2.369007\n",
       "573  5955                         Школьная лига. III тур.  2.373492\n",
       "684  6254                                   Школьная лига  2.407224\n",
       "555  5936                           Школьная лига. I тур.  2.457438\n",
       "11   5013          (а)Синхрон-lite. Лига старта. Эпизод V  2.464977\n",
       "154  5438                             Синхрон Лиги Разума  3.086135\n",
       "577  5963                          Асинхрон по South Park  3.234015"
      ]
     },
     "execution_count": 100,
     "metadata": {},
     "output_type": "execute_result"
    }
   ],
   "source": [
    "result.tail(10)"
   ]
  },
  {
   "cell_type": "markdown",
   "metadata": {},
   "source": [
    "Модель неплохо оценивает сложность. Если даже погуглить отдельные игры (Зеркало мемориала памяти Михаила Басса, Мемориал памяти Михаила Басса), то можно понять что они имеют весьма высокую сложность. Напротив же, конец нашего списка либо школьные игры, либо студенческие (очень иронично видеть очень тематические игры - по Южному парку)"
   ]
  },
  {
   "cell_type": "code",
   "execution_count": null,
   "metadata": {},
   "outputs": [],
   "source": []
  }
 ],
 "metadata": {
  "accelerator": "GPU",
  "colab": {
   "provenance": []
  },
  "gpuClass": "standard",
  "kernelspec": {
   "display_name": "Python 3 (ipykernel)",
   "language": "python",
   "name": "python3"
  },
  "language_info": {
   "codemirror_mode": {
    "name": "ipython",
    "version": 3
   },
   "file_extension": ".py",
   "mimetype": "text/x-python",
   "name": "python",
   "nbconvert_exporter": "python",
   "pygments_lexer": "ipython3",
   "version": "3.9.13"
  }
 },
 "nbformat": 4,
 "nbformat_minor": 1
}
